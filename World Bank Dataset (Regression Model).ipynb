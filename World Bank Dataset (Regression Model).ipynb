{
 "cells": [
  {
   "cell_type": "markdown",
   "metadata": {},
   "source": [
    "# World Bank Dataset"
   ]
  },
  {
   "cell_type": "code",
   "execution_count": 1,
   "metadata": {},
   "outputs": [],
   "source": [
    "import numpy as np\n",
    "import pandas as pd\n",
    "import seaborn as sns\n",
    "from scipy import stats\n",
    "import matplotlib.pyplot as plt\n",
    "import statsmodels.api as sm\n",
    "from statsmodels.stats import diagnostic as diag\n",
    "from statsmodels.stats.outliers_influence import variance_inflation_factor\n",
    "from sklearn.linear_model import LinearRegression\n",
    "from sklearn.model_selection import train_test_split\n",
    "from sklearn.metrics import mean_squared_error,mean_absolute_error,r2_score\n",
    "%matplotlib inline\n",
    "import os"
   ]
  },
  {
   "cell_type": "markdown",
   "metadata": {},
   "source": [
    "# Import the Libraries"
   ]
  },
  {
   "cell_type": "code",
   "execution_count": 2,
   "metadata": {},
   "outputs": [],
   "source": [
    "data = pd.read_excel(r\"C:\\Users\\ganes\\Desktop\\Data Science\\Regression\\korea_data.xlsx\")"
   ]
  },
  {
   "cell_type": "markdown",
   "metadata": {},
   "source": [
    "# Exploratory Data Analysis"
   ]
  },
  {
   "cell_type": "code",
   "execution_count": 3,
   "metadata": {},
   "outputs": [
    {
     "data": {
      "text/plain": [
       "(49, 11)"
      ]
     },
     "execution_count": 3,
     "metadata": {},
     "output_type": "execute_result"
    }
   ],
   "source": [
    "data.shape"
   ]
  },
  {
   "cell_type": "code",
   "execution_count": 4,
   "metadata": {},
   "outputs": [
    {
     "data": {
      "text/html": [
       "<style  type=\"text/css\" >\n",
       "    #T_1ed8def4_c75e_11ea_970e_a0d37a3fe093row0_col0 {\n",
       "            : ;\n",
       "            background-color:  green;\n",
       "        }    #T_1ed8def4_c75e_11ea_970e_a0d37a3fe093row0_col2 {\n",
       "            background-color:  red;\n",
       "            : ;\n",
       "        }    #T_1ed8def4_c75e_11ea_970e_a0d37a3fe093row0_col3 {\n",
       "            background-color:  red;\n",
       "            : ;\n",
       "        }    #T_1ed8def4_c75e_11ea_970e_a0d37a3fe093row0_col5 {\n",
       "            background-color:  red;\n",
       "            : ;\n",
       "        }    #T_1ed8def4_c75e_11ea_970e_a0d37a3fe093row0_col6 {\n",
       "            background-color:  red;\n",
       "            : ;\n",
       "        }    #T_1ed8def4_c75e_11ea_970e_a0d37a3fe093row0_col7 {\n",
       "            background-color:  red;\n",
       "            : ;\n",
       "        }    #T_1ed8def4_c75e_11ea_970e_a0d37a3fe093row0_col9 {\n",
       "            background-color:  red;\n",
       "            : ;\n",
       "        }    #T_1ed8def4_c75e_11ea_970e_a0d37a3fe093row0_col10 {\n",
       "            background-color:  red;\n",
       "            : ;\n",
       "        }    #T_1ed8def4_c75e_11ea_970e_a0d37a3fe093row2_col5 {\n",
       "            : ;\n",
       "            background-color:  green;\n",
       "        }    #T_1ed8def4_c75e_11ea_970e_a0d37a3fe093row3_col1 {\n",
       "            : ;\n",
       "            background-color:  green;\n",
       "        }    #T_1ed8def4_c75e_11ea_970e_a0d37a3fe093row3_col2 {\n",
       "            : ;\n",
       "            background-color:  green;\n",
       "        }    #T_1ed8def4_c75e_11ea_970e_a0d37a3fe093row3_col6 {\n",
       "            : ;\n",
       "            background-color:  green;\n",
       "        }    #T_1ed8def4_c75e_11ea_970e_a0d37a3fe093row3_col8 {\n",
       "            : ;\n",
       "            background-color:  green;\n",
       "        }    #T_1ed8def4_c75e_11ea_970e_a0d37a3fe093row3_col9 {\n",
       "            : ;\n",
       "            background-color:  green;\n",
       "        }    #T_1ed8def4_c75e_11ea_970e_a0d37a3fe093row4_col0 {\n",
       "            background-color:  red;\n",
       "            : ;\n",
       "        }    #T_1ed8def4_c75e_11ea_970e_a0d37a3fe093row4_col1 {\n",
       "            background-color:  red;\n",
       "            : ;\n",
       "        }    #T_1ed8def4_c75e_11ea_970e_a0d37a3fe093row4_col3 {\n",
       "            : ;\n",
       "            background-color:  green;\n",
       "        }    #T_1ed8def4_c75e_11ea_970e_a0d37a3fe093row4_col7 {\n",
       "            : ;\n",
       "            background-color:  green;\n",
       "        }    #T_1ed8def4_c75e_11ea_970e_a0d37a3fe093row4_col8 {\n",
       "            background-color:  red;\n",
       "            : ;\n",
       "        }    #T_1ed8def4_c75e_11ea_970e_a0d37a3fe093row4_col10 {\n",
       "            : ;\n",
       "            background-color:  green;\n",
       "        }</style><table id=\"T_1ed8def4_c75e_11ea_970e_a0d37a3fe093\" ><thead>    <tr>        <th class=\"blank level0\" ></th>        <th class=\"col_heading level0 col0\" >Year</th>        <th class=\"col_heading level0 col1\" >GDP growth (annual %)</th>        <th class=\"col_heading level0 col2\" >Gross capital formation (% of GDP)</th>        <th class=\"col_heading level0 col3\" >Population growth (annual %)</th>        <th class=\"col_heading level0 col4\" >Birth rate, crude (per 1,000 people)</th>        <th class=\"col_heading level0 col5\" >Broad money growth (annual %)</th>        <th class=\"col_heading level0 col6\" >Final consumption expenditure (annual % growth)</th>        <th class=\"col_heading level0 col7\" >General government final consumption expenditure (annual % growth)</th>        <th class=\"col_heading level0 col8\" >Gross capital formation (annual % growth)</th>        <th class=\"col_heading level0 col9\" >Households and NPISHs Final consumption expenditure (annual % growth)</th>        <th class=\"col_heading level0 col10\" >Unemployment, total (% of total labor force) (national estimate)</th>    </tr></thead><tbody>\n",
       "                <tr>\n",
       "                        <th id=\"T_1ed8def4_c75e_11ea_970e_a0d37a3fe093level0_row0\" class=\"row_heading level0 row0\" >0</th>\n",
       "                        <td id=\"T_1ed8def4_c75e_11ea_970e_a0d37a3fe093row0_col0\" class=\"data row0 col0\" >1969</td>\n",
       "                        <td id=\"T_1ed8def4_c75e_11ea_970e_a0d37a3fe093row0_col1\" class=\"data row0 col1\" >14.5412</td>\n",
       "                        <td id=\"T_1ed8def4_c75e_11ea_970e_a0d37a3fe093row0_col2\" class=\"data row0 col2\" >29.9436</td>\n",
       "                        <td id=\"T_1ed8def4_c75e_11ea_970e_a0d37a3fe093row0_col3\" class=\"data row0 col3\" >2.26343</td>\n",
       "                        <td id=\"T_1ed8def4_c75e_11ea_970e_a0d37a3fe093row0_col4\" class=\"data row0 col4\" >30.663</td>\n",
       "                        <td id=\"T_1ed8def4_c75e_11ea_970e_a0d37a3fe093row0_col5\" class=\"data row0 col5\" >60.9847</td>\n",
       "                        <td id=\"T_1ed8def4_c75e_11ea_970e_a0d37a3fe093row0_col6\" class=\"data row0 col6\" >10.6932</td>\n",
       "                        <td id=\"T_1ed8def4_c75e_11ea_970e_a0d37a3fe093row0_col7\" class=\"data row0 col7\" >10.6408</td>\n",
       "                        <td id=\"T_1ed8def4_c75e_11ea_970e_a0d37a3fe093row0_col8\" class=\"data row0 col8\" >29.9081</td>\n",
       "                        <td id=\"T_1ed8def4_c75e_11ea_970e_a0d37a3fe093row0_col9\" class=\"data row0 col9\" >10.7003</td>\n",
       "                        <td id=\"T_1ed8def4_c75e_11ea_970e_a0d37a3fe093row0_col10\" class=\"data row0 col10\" >4.86</td>\n",
       "            </tr>\n",
       "            <tr>\n",
       "                        <th id=\"T_1ed8def4_c75e_11ea_970e_a0d37a3fe093level0_row1\" class=\"row_heading level0 row1\" >1</th>\n",
       "                        <td id=\"T_1ed8def4_c75e_11ea_970e_a0d37a3fe093row1_col0\" class=\"data row1 col0\" >1970</td>\n",
       "                        <td id=\"T_1ed8def4_c75e_11ea_970e_a0d37a3fe093row1_col1\" class=\"data row1 col1\" >9.99741</td>\n",
       "                        <td id=\"T_1ed8def4_c75e_11ea_970e_a0d37a3fe093row1_col2\" class=\"data row1 col2\" >26.3382</td>\n",
       "                        <td id=\"T_1ed8def4_c75e_11ea_970e_a0d37a3fe093row1_col3\" class=\"data row1 col3\" >2.18417</td>\n",
       "                        <td id=\"T_1ed8def4_c75e_11ea_970e_a0d37a3fe093row1_col4\" class=\"data row1 col4\" >31.2</td>\n",
       "                        <td id=\"T_1ed8def4_c75e_11ea_970e_a0d37a3fe093row1_col5\" class=\"data row1 col5\" >27.4229</td>\n",
       "                        <td id=\"T_1ed8def4_c75e_11ea_970e_a0d37a3fe093row1_col6\" class=\"data row1 col6\" >10.1615</td>\n",
       "                        <td id=\"T_1ed8def4_c75e_11ea_970e_a0d37a3fe093row1_col7\" class=\"data row1 col7\" >7.27957</td>\n",
       "                        <td id=\"T_1ed8def4_c75e_11ea_970e_a0d37a3fe093row1_col8\" class=\"data row1 col8\" >0.0586675</td>\n",
       "                        <td id=\"T_1ed8def4_c75e_11ea_970e_a0d37a3fe093row1_col9\" class=\"data row1 col9\" >10.5573</td>\n",
       "                        <td id=\"T_1ed8def4_c75e_11ea_970e_a0d37a3fe093row1_col10\" class=\"data row1 col10\" >4.51</td>\n",
       "            </tr>\n",
       "            <tr>\n",
       "                        <th id=\"T_1ed8def4_c75e_11ea_970e_a0d37a3fe093level0_row2\" class=\"row_heading level0 row2\" >2</th>\n",
       "                        <td id=\"T_1ed8def4_c75e_11ea_970e_a0d37a3fe093row2_col0\" class=\"data row2 col0\" >1971</td>\n",
       "                        <td id=\"T_1ed8def4_c75e_11ea_970e_a0d37a3fe093row2_col1\" class=\"data row2 col1\" >10.4547</td>\n",
       "                        <td id=\"T_1ed8def4_c75e_11ea_970e_a0d37a3fe093row2_col2\" class=\"data row2 col2\" >25.5585</td>\n",
       "                        <td id=\"T_1ed8def4_c75e_11ea_970e_a0d37a3fe093row2_col3\" class=\"data row2 col3\" >1.97132</td>\n",
       "                        <td id=\"T_1ed8def4_c75e_11ea_970e_a0d37a3fe093row2_col4\" class=\"data row2 col4\" >31.2</td>\n",
       "                        <td id=\"T_1ed8def4_c75e_11ea_970e_a0d37a3fe093row2_col5\" class=\"data row2 col5\" >20.8445</td>\n",
       "                        <td id=\"T_1ed8def4_c75e_11ea_970e_a0d37a3fe093row2_col6\" class=\"data row2 col6\" >9.33043</td>\n",
       "                        <td id=\"T_1ed8def4_c75e_11ea_970e_a0d37a3fe093row2_col7\" class=\"data row2 col7\" >8.61055</td>\n",
       "                        <td id=\"T_1ed8def4_c75e_11ea_970e_a0d37a3fe093row2_col8\" class=\"data row2 col8\" >15.1729</td>\n",
       "                        <td id=\"T_1ed8def4_c75e_11ea_970e_a0d37a3fe093row2_col9\" class=\"data row2 col9\" >9.42697</td>\n",
       "                        <td id=\"T_1ed8def4_c75e_11ea_970e_a0d37a3fe093row2_col10\" class=\"data row2 col10\" >4.57</td>\n",
       "            </tr>\n",
       "            <tr>\n",
       "                        <th id=\"T_1ed8def4_c75e_11ea_970e_a0d37a3fe093level0_row3\" class=\"row_heading level0 row3\" >3</th>\n",
       "                        <td id=\"T_1ed8def4_c75e_11ea_970e_a0d37a3fe093row3_col0\" class=\"data row3 col0\" >1972</td>\n",
       "                        <td id=\"T_1ed8def4_c75e_11ea_970e_a0d37a3fe093row3_col1\" class=\"data row3 col1\" >7.15071</td>\n",
       "                        <td id=\"T_1ed8def4_c75e_11ea_970e_a0d37a3fe093row3_col2\" class=\"data row3 col2\" >21.4048</td>\n",
       "                        <td id=\"T_1ed8def4_c75e_11ea_970e_a0d37a3fe093row3_col3\" class=\"data row3 col3\" >1.876</td>\n",
       "                        <td id=\"T_1ed8def4_c75e_11ea_970e_a0d37a3fe093row3_col4\" class=\"data row3 col4\" >28.4</td>\n",
       "                        <td id=\"T_1ed8def4_c75e_11ea_970e_a0d37a3fe093row3_col5\" class=\"data row3 col5\" >33.815</td>\n",
       "                        <td id=\"T_1ed8def4_c75e_11ea_970e_a0d37a3fe093row3_col6\" class=\"data row3 col6\" >5.78846</td>\n",
       "                        <td id=\"T_1ed8def4_c75e_11ea_970e_a0d37a3fe093row3_col7\" class=\"data row3 col7\" >8.13482</td>\n",
       "                        <td id=\"T_1ed8def4_c75e_11ea_970e_a0d37a3fe093row3_col8\" class=\"data row3 col8\" >-13.0567</td>\n",
       "                        <td id=\"T_1ed8def4_c75e_11ea_970e_a0d37a3fe093row3_col9\" class=\"data row3 col9\" >5.47136</td>\n",
       "                        <td id=\"T_1ed8def4_c75e_11ea_970e_a0d37a3fe093row3_col10\" class=\"data row3 col10\" >4.59</td>\n",
       "            </tr>\n",
       "            <tr>\n",
       "                        <th id=\"T_1ed8def4_c75e_11ea_970e_a0d37a3fe093level0_row4\" class=\"row_heading level0 row4\" >4</th>\n",
       "                        <td id=\"T_1ed8def4_c75e_11ea_970e_a0d37a3fe093row4_col0\" class=\"data row4 col0\" >1973</td>\n",
       "                        <td id=\"T_1ed8def4_c75e_11ea_970e_a0d37a3fe093row4_col1\" class=\"data row4 col1\" >14.8276</td>\n",
       "                        <td id=\"T_1ed8def4_c75e_11ea_970e_a0d37a3fe093row4_col2\" class=\"data row4 col2\" >25.8729</td>\n",
       "                        <td id=\"T_1ed8def4_c75e_11ea_970e_a0d37a3fe093row4_col3\" class=\"data row4 col3\" >1.76829</td>\n",
       "                        <td id=\"T_1ed8def4_c75e_11ea_970e_a0d37a3fe093row4_col4\" class=\"data row4 col4\" >28.3</td>\n",
       "                        <td id=\"T_1ed8def4_c75e_11ea_970e_a0d37a3fe093row4_col5\" class=\"data row4 col5\" >36.4156</td>\n",
       "                        <td id=\"T_1ed8def4_c75e_11ea_970e_a0d37a3fe093row4_col6\" class=\"data row4 col6\" >8.08995</td>\n",
       "                        <td id=\"T_1ed8def4_c75e_11ea_970e_a0d37a3fe093row4_col7\" class=\"data row4 col7\" >2.28773</td>\n",
       "                        <td id=\"T_1ed8def4_c75e_11ea_970e_a0d37a3fe093row4_col8\" class=\"data row4 col8\" >32.0983</td>\n",
       "                        <td id=\"T_1ed8def4_c75e_11ea_970e_a0d37a3fe093row4_col9\" class=\"data row4 col9\" >8.92729</td>\n",
       "                        <td id=\"T_1ed8def4_c75e_11ea_970e_a0d37a3fe093row4_col10\" class=\"data row4 col10\" >4.04</td>\n",
       "            </tr>\n",
       "    </tbody></table>"
      ],
      "text/plain": [
       "<pandas.io.formats.style.Styler at 0x1d0e883f848>"
      ]
     },
     "execution_count": 4,
     "metadata": {},
     "output_type": "execute_result"
    }
   ],
   "source": [
    "data.head().style.highlight_max(color='red').highlight_min(color = 'green')"
   ]
  },
  {
   "cell_type": "code",
   "execution_count": 5,
   "metadata": {},
   "outputs": [
    {
     "data": {
      "text/html": [
       "<style  type=\"text/css\" >\n",
       "    #T_1eee8314_c75e_11ea_8230_a0d37a3fe093row0_col0 {\n",
       "            : ;\n",
       "            background-color:  green;\n",
       "        }    #T_1eee8314_c75e_11ea_8230_a0d37a3fe093row0_col5 {\n",
       "            : ;\n",
       "            background-color:  green;\n",
       "        }    #T_1eee8314_c75e_11ea_8230_a0d37a3fe093row0_col8 {\n",
       "            : ;\n",
       "            background-color:  green;\n",
       "        }    #T_1eee8314_c75e_11ea_8230_a0d37a3fe093row0_col10 {\n",
       "            : ;\n",
       "            background-color:  green;\n",
       "        }    #T_1eee8314_c75e_11ea_8230_a0d37a3fe093row1_col1 {\n",
       "            background-color:  red;\n",
       "            : ;\n",
       "        }    #T_1eee8314_c75e_11ea_8230_a0d37a3fe093row1_col3 {\n",
       "            background-color:  red;\n",
       "            : ;\n",
       "        }    #T_1eee8314_c75e_11ea_8230_a0d37a3fe093row1_col6 {\n",
       "            : ;\n",
       "            background-color:  green;\n",
       "        }    #T_1eee8314_c75e_11ea_8230_a0d37a3fe093row1_col9 {\n",
       "            : ;\n",
       "            background-color:  green;\n",
       "        }    #T_1eee8314_c75e_11ea_8230_a0d37a3fe093row2_col1 {\n",
       "            : ;\n",
       "            background-color:  green;\n",
       "        }    #T_1eee8314_c75e_11ea_8230_a0d37a3fe093row2_col2 {\n",
       "            : ;\n",
       "            background-color:  green;\n",
       "        }    #T_1eee8314_c75e_11ea_8230_a0d37a3fe093row2_col5 {\n",
       "            background-color:  red;\n",
       "            : ;\n",
       "        }    #T_1eee8314_c75e_11ea_8230_a0d37a3fe093row2_col7 {\n",
       "            : ;\n",
       "            background-color:  green;\n",
       "        }    #T_1eee8314_c75e_11ea_8230_a0d37a3fe093row3_col6 {\n",
       "            background-color:  red;\n",
       "            : ;\n",
       "        }    #T_1eee8314_c75e_11ea_8230_a0d37a3fe093row3_col7 {\n",
       "            background-color:  red;\n",
       "            : ;\n",
       "        }    #T_1eee8314_c75e_11ea_8230_a0d37a3fe093row3_col10 {\n",
       "            background-color:  red;\n",
       "            : ;\n",
       "        }    #T_1eee8314_c75e_11ea_8230_a0d37a3fe093row4_col0 {\n",
       "            background-color:  red;\n",
       "            : ;\n",
       "        }    #T_1eee8314_c75e_11ea_8230_a0d37a3fe093row4_col2 {\n",
       "            background-color:  red;\n",
       "            : ;\n",
       "        }    #T_1eee8314_c75e_11ea_8230_a0d37a3fe093row4_col3 {\n",
       "            : ;\n",
       "            background-color:  green;\n",
       "        }    #T_1eee8314_c75e_11ea_8230_a0d37a3fe093row4_col8 {\n",
       "            background-color:  red;\n",
       "            : ;\n",
       "        }    #T_1eee8314_c75e_11ea_8230_a0d37a3fe093row4_col9 {\n",
       "            background-color:  red;\n",
       "            : ;\n",
       "        }    #T_1eee8314_c75e_11ea_8230_a0d37a3fe093row4_col10 {\n",
       "            background-color:  red;\n",
       "            : ;\n",
       "        }</style><table id=\"T_1eee8314_c75e_11ea_8230_a0d37a3fe093\" ><thead>    <tr>        <th class=\"blank level0\" ></th>        <th class=\"col_heading level0 col0\" >Year</th>        <th class=\"col_heading level0 col1\" >GDP growth (annual %)</th>        <th class=\"col_heading level0 col2\" >Gross capital formation (% of GDP)</th>        <th class=\"col_heading level0 col3\" >Population growth (annual %)</th>        <th class=\"col_heading level0 col4\" >Birth rate, crude (per 1,000 people)</th>        <th class=\"col_heading level0 col5\" >Broad money growth (annual %)</th>        <th class=\"col_heading level0 col6\" >Final consumption expenditure (annual % growth)</th>        <th class=\"col_heading level0 col7\" >General government final consumption expenditure (annual % growth)</th>        <th class=\"col_heading level0 col8\" >Gross capital formation (annual % growth)</th>        <th class=\"col_heading level0 col9\" >Households and NPISHs Final consumption expenditure (annual % growth)</th>        <th class=\"col_heading level0 col10\" >Unemployment, total (% of total labor force) (national estimate)</th>    </tr></thead><tbody>\n",
       "                <tr>\n",
       "                        <th id=\"T_1eee8314_c75e_11ea_8230_a0d37a3fe093level0_row0\" class=\"row_heading level0 row0\" >44</th>\n",
       "                        <td id=\"T_1eee8314_c75e_11ea_8230_a0d37a3fe093row0_col0\" class=\"data row0 col0\" >2013</td>\n",
       "                        <td id=\"T_1eee8314_c75e_11ea_8230_a0d37a3fe093row0_col1\" class=\"data row0 col1\" >2.8962</td>\n",
       "                        <td id=\"T_1eee8314_c75e_11ea_8230_a0d37a3fe093row0_col2\" class=\"data row0 col2\" >29.1022</td>\n",
       "                        <td id=\"T_1eee8314_c75e_11ea_8230_a0d37a3fe093row0_col3\" class=\"data row0 col3\" >0.455219</td>\n",
       "                        <td id=\"T_1eee8314_c75e_11ea_8230_a0d37a3fe093row0_col4\" class=\"data row0 col4\" >8.6</td>\n",
       "                        <td id=\"T_1eee8314_c75e_11ea_8230_a0d37a3fe093row0_col5\" class=\"data row0 col5\" >4.63889</td>\n",
       "                        <td id=\"T_1eee8314_c75e_11ea_8230_a0d37a3fe093row0_col6\" class=\"data row0 col6\" >2.19113</td>\n",
       "                        <td id=\"T_1eee8314_c75e_11ea_8230_a0d37a3fe093row0_col7\" class=\"data row0 col7\" >3.26138</td>\n",
       "                        <td id=\"T_1eee8314_c75e_11ea_8230_a0d37a3fe093row0_col8\" class=\"data row0 col8\" >-0.118665</td>\n",
       "                        <td id=\"T_1eee8314_c75e_11ea_8230_a0d37a3fe093row0_col9\" class=\"data row0 col9\" >1.8821</td>\n",
       "                        <td id=\"T_1eee8314_c75e_11ea_8230_a0d37a3fe093row0_col10\" class=\"data row0 col10\" >3.1</td>\n",
       "            </tr>\n",
       "            <tr>\n",
       "                        <th id=\"T_1eee8314_c75e_11ea_8230_a0d37a3fe093level0_row1\" class=\"row_heading level0 row1\" >45</th>\n",
       "                        <td id=\"T_1eee8314_c75e_11ea_8230_a0d37a3fe093row1_col0\" class=\"data row1 col0\" >2014</td>\n",
       "                        <td id=\"T_1eee8314_c75e_11ea_8230_a0d37a3fe093row1_col1\" class=\"data row1 col1\" >3.34145</td>\n",
       "                        <td id=\"T_1eee8314_c75e_11ea_8230_a0d37a3fe093row1_col2\" class=\"data row1 col2\" >29.2769</td>\n",
       "                        <td id=\"T_1eee8314_c75e_11ea_8230_a0d37a3fe093row1_col3\" class=\"data row1 col3\" >0.62815</td>\n",
       "                        <td id=\"T_1eee8314_c75e_11ea_8230_a0d37a3fe093row1_col4\" class=\"data row1 col4\" >8.6</td>\n",
       "                        <td id=\"T_1eee8314_c75e_11ea_8230_a0d37a3fe093row1_col5\" class=\"data row1 col5\" >8.14449</td>\n",
       "                        <td id=\"T_1eee8314_c75e_11ea_8230_a0d37a3fe093row1_col6\" class=\"data row1 col6\" >2.0428</td>\n",
       "                        <td id=\"T_1eee8314_c75e_11ea_8230_a0d37a3fe093row1_col7\" class=\"data row1 col7\" >3.0462</td>\n",
       "                        <td id=\"T_1eee8314_c75e_11ea_8230_a0d37a3fe093row1_col8\" class=\"data row1 col8\" >5.2625</td>\n",
       "                        <td id=\"T_1eee8314_c75e_11ea_8230_a0d37a3fe093row1_col9\" class=\"data row1 col9\" >1.74712</td>\n",
       "                        <td id=\"T_1eee8314_c75e_11ea_8230_a0d37a3fe093row1_col10\" class=\"data row1 col10\" >3.5</td>\n",
       "            </tr>\n",
       "            <tr>\n",
       "                        <th id=\"T_1eee8314_c75e_11ea_8230_a0d37a3fe093level0_row2\" class=\"row_heading level0 row2\" >46</th>\n",
       "                        <td id=\"T_1eee8314_c75e_11ea_8230_a0d37a3fe093row2_col0\" class=\"data row2 col0\" >2015</td>\n",
       "                        <td id=\"T_1eee8314_c75e_11ea_8230_a0d37a3fe093row2_col1\" class=\"data row2 col1\" >2.79024</td>\n",
       "                        <td id=\"T_1eee8314_c75e_11ea_8230_a0d37a3fe093row2_col2\" class=\"data row2 col2\" >28.9181</td>\n",
       "                        <td id=\"T_1eee8314_c75e_11ea_8230_a0d37a3fe093row2_col3\" class=\"data row2 col3\" >0.527288</td>\n",
       "                        <td id=\"T_1eee8314_c75e_11ea_8230_a0d37a3fe093row2_col4\" class=\"data row2 col4\" >8.6</td>\n",
       "                        <td id=\"T_1eee8314_c75e_11ea_8230_a0d37a3fe093row2_col5\" class=\"data row2 col5\" >8.19075</td>\n",
       "                        <td id=\"T_1eee8314_c75e_11ea_8230_a0d37a3fe093row2_col6\" class=\"data row2 col6\" >2.38519</td>\n",
       "                        <td id=\"T_1eee8314_c75e_11ea_8230_a0d37a3fe093row2_col7\" class=\"data row2 col7\" >2.9885</td>\n",
       "                        <td id=\"T_1eee8314_c75e_11ea_8230_a0d37a3fe093row2_col8\" class=\"data row2 col8\" >7.29739</td>\n",
       "                        <td id=\"T_1eee8314_c75e_11ea_8230_a0d37a3fe093row2_col9\" class=\"data row2 col9\" >2.20397</td>\n",
       "                        <td id=\"T_1eee8314_c75e_11ea_8230_a0d37a3fe093row2_col10\" class=\"data row2 col10\" >3.6</td>\n",
       "            </tr>\n",
       "            <tr>\n",
       "                        <th id=\"T_1eee8314_c75e_11ea_8230_a0d37a3fe093level0_row3\" class=\"row_heading level0 row3\" >47</th>\n",
       "                        <td id=\"T_1eee8314_c75e_11ea_8230_a0d37a3fe093row3_col0\" class=\"data row3 col0\" >2016</td>\n",
       "                        <td id=\"T_1eee8314_c75e_11ea_8230_a0d37a3fe093row3_col1\" class=\"data row3 col1\" >2.9293</td>\n",
       "                        <td id=\"T_1eee8314_c75e_11ea_8230_a0d37a3fe093row3_col2\" class=\"data row3 col2\" >29.2524</td>\n",
       "                        <td id=\"T_1eee8314_c75e_11ea_8230_a0d37a3fe093row3_col3\" class=\"data row3 col3\" >0.451318</td>\n",
       "                        <td id=\"T_1eee8314_c75e_11ea_8230_a0d37a3fe093row3_col4\" class=\"data row3 col4\" >7.9</td>\n",
       "                        <td id=\"T_1eee8314_c75e_11ea_8230_a0d37a3fe093row3_col5\" class=\"data row3 col5\" >7.12316</td>\n",
       "                        <td id=\"T_1eee8314_c75e_11ea_8230_a0d37a3fe093row3_col6\" class=\"data row3 col6\" >2.98115</td>\n",
       "                        <td id=\"T_1eee8314_c75e_11ea_8230_a0d37a3fe093row3_col7\" class=\"data row3 col7\" >4.47719</td>\n",
       "                        <td id=\"T_1eee8314_c75e_11ea_8230_a0d37a3fe093row3_col8\" class=\"data row3 col8\" >5.61021</td>\n",
       "                        <td id=\"T_1eee8314_c75e_11ea_8230_a0d37a3fe093row3_col9\" class=\"data row3 col9\" >2.52576</td>\n",
       "                        <td id=\"T_1eee8314_c75e_11ea_8230_a0d37a3fe093row3_col10\" class=\"data row3 col10\" >3.7</td>\n",
       "            </tr>\n",
       "            <tr>\n",
       "                        <th id=\"T_1eee8314_c75e_11ea_8230_a0d37a3fe093level0_row4\" class=\"row_heading level0 row4\" >48</th>\n",
       "                        <td id=\"T_1eee8314_c75e_11ea_8230_a0d37a3fe093row4_col0\" class=\"data row4 col0\" >2017</td>\n",
       "                        <td id=\"T_1eee8314_c75e_11ea_8230_a0d37a3fe093row4_col1\" class=\"data row4 col1\" >3.06277</td>\n",
       "                        <td id=\"T_1eee8314_c75e_11ea_8230_a0d37a3fe093row4_col2\" class=\"data row4 col2\" >31.0757</td>\n",
       "                        <td id=\"T_1eee8314_c75e_11ea_8230_a0d37a3fe093row4_col3\" class=\"data row4 col3\" >0.429345</td>\n",
       "                        <td id=\"T_1eee8314_c75e_11ea_8230_a0d37a3fe093row4_col4\" class=\"data row4 col4\" >..</td>\n",
       "                        <td id=\"T_1eee8314_c75e_11ea_8230_a0d37a3fe093row4_col5\" class=\"data row4 col5\" >5.10474</td>\n",
       "                        <td id=\"T_1eee8314_c75e_11ea_8230_a0d37a3fe093row4_col6\" class=\"data row4 col6\" >2.80272</td>\n",
       "                        <td id=\"T_1eee8314_c75e_11ea_8230_a0d37a3fe093row4_col7\" class=\"data row4 col7\" >3.42484</td>\n",
       "                        <td id=\"T_1eee8314_c75e_11ea_8230_a0d37a3fe093row4_col8\" class=\"data row4 col8\" >10.1078</td>\n",
       "                        <td id=\"T_1eee8314_c75e_11ea_8230_a0d37a3fe093row4_col9\" class=\"data row4 col9\" >2.60864</td>\n",
       "                        <td id=\"T_1eee8314_c75e_11ea_8230_a0d37a3fe093row4_col10\" class=\"data row4 col10\" >3.7</td>\n",
       "            </tr>\n",
       "    </tbody></table>"
      ],
      "text/plain": [
       "<pandas.io.formats.style.Styler at 0x1d0e89eea88>"
      ]
     },
     "execution_count": 5,
     "metadata": {},
     "output_type": "execute_result"
    }
   ],
   "source": [
    "data.tail().style.highlight_max(color='red').highlight_min(color = 'green')"
   ]
  },
  {
   "cell_type": "code",
   "execution_count": 6,
   "metadata": {},
   "outputs": [
    {
     "name": "stdout",
     "output_type": "stream",
     "text": [
      "<class 'pandas.core.frame.DataFrame'>\n",
      "RangeIndex: 49 entries, 0 to 48\n",
      "Data columns (total 11 columns):\n",
      "Year                                                                     49 non-null int64\n",
      "GDP growth (annual %)                                                    49 non-null float64\n",
      "Gross capital formation (% of GDP)                                       49 non-null float64\n",
      "Population growth (annual %)                                             49 non-null float64\n",
      "Birth rate, crude (per 1,000 people)                                     49 non-null object\n",
      "Broad money growth (annual %)                                            49 non-null float64\n",
      "Final consumption expenditure (annual % growth)                          49 non-null float64\n",
      "General government final consumption expenditure (annual % growth)       49 non-null float64\n",
      "Gross capital formation (annual % growth)                                49 non-null float64\n",
      "Households and NPISHs Final consumption expenditure (annual % growth)    49 non-null float64\n",
      "Unemployment, total (% of total labor force) (national estimate)         49 non-null float64\n",
      "dtypes: float64(9), int64(1), object(1)\n",
      "memory usage: 4.3+ KB\n"
     ]
    }
   ],
   "source": [
    "data.info()"
   ]
  },
  {
   "cell_type": "code",
   "execution_count": 7,
   "metadata": {},
   "outputs": [
    {
     "data": {
      "text/html": [
       "<style  type=\"text/css\" >\n",
       "    #T_1f18ee52_c75e_11ea_b7cd_a0d37a3fe093row0_col1 {\n",
       "            background-color:  red;\n",
       "            : ;\n",
       "        }    #T_1f18ee52_c75e_11ea_b7cd_a0d37a3fe093row0_col2 {\n",
       "            background-color:  red;\n",
       "            : ;\n",
       "        }    #T_1f18ee52_c75e_11ea_b7cd_a0d37a3fe093row0_col3 {\n",
       "            background-color:  red;\n",
       "            : ;\n",
       "        }    #T_1f18ee52_c75e_11ea_b7cd_a0d37a3fe093row0_col5 {\n",
       "            background-color:  red;\n",
       "            : ;\n",
       "        }    #T_1f18ee52_c75e_11ea_b7cd_a0d37a3fe093row0_col6 {\n",
       "            background-color:  red;\n",
       "            : ;\n",
       "        }    #T_1f18ee52_c75e_11ea_b7cd_a0d37a3fe093row0_col7 {\n",
       "            background-color:  red;\n",
       "            : ;\n",
       "        }    #T_1f18ee52_c75e_11ea_b7cd_a0d37a3fe093row0_col8 {\n",
       "            background-color:  red;\n",
       "            : ;\n",
       "        }    #T_1f18ee52_c75e_11ea_b7cd_a0d37a3fe093row0_col9 {\n",
       "            background-color:  red;\n",
       "            : ;\n",
       "        }    #T_1f18ee52_c75e_11ea_b7cd_a0d37a3fe093row2_col0 {\n",
       "            : ;\n",
       "            background-color:  green;\n",
       "        }    #T_1f18ee52_c75e_11ea_b7cd_a0d37a3fe093row2_col2 {\n",
       "            : ;\n",
       "            background-color:  green;\n",
       "        }    #T_1f18ee52_c75e_11ea_b7cd_a0d37a3fe093row2_col9 {\n",
       "            : ;\n",
       "            background-color:  green;\n",
       "        }    #T_1f18ee52_c75e_11ea_b7cd_a0d37a3fe093row3_col1 {\n",
       "            : ;\n",
       "            background-color:  green;\n",
       "        }    #T_1f18ee52_c75e_11ea_b7cd_a0d37a3fe093row3_col3 {\n",
       "            : ;\n",
       "            background-color:  green;\n",
       "        }    #T_1f18ee52_c75e_11ea_b7cd_a0d37a3fe093row3_col4 {\n",
       "            : ;\n",
       "            background-color:  green;\n",
       "        }    #T_1f18ee52_c75e_11ea_b7cd_a0d37a3fe093row3_col5 {\n",
       "            : ;\n",
       "            background-color:  green;\n",
       "        }    #T_1f18ee52_c75e_11ea_b7cd_a0d37a3fe093row3_col6 {\n",
       "            : ;\n",
       "            background-color:  green;\n",
       "        }    #T_1f18ee52_c75e_11ea_b7cd_a0d37a3fe093row3_col7 {\n",
       "            : ;\n",
       "            background-color:  green;\n",
       "        }    #T_1f18ee52_c75e_11ea_b7cd_a0d37a3fe093row3_col8 {\n",
       "            : ;\n",
       "            background-color:  green;\n",
       "        }    #T_1f18ee52_c75e_11ea_b7cd_a0d37a3fe093row7_col0 {\n",
       "            background-color:  red;\n",
       "            : ;\n",
       "        }    #T_1f18ee52_c75e_11ea_b7cd_a0d37a3fe093row7_col4 {\n",
       "            background-color:  red;\n",
       "            : ;\n",
       "        }</style><table id=\"T_1f18ee52_c75e_11ea_b7cd_a0d37a3fe093\" ><thead>    <tr>        <th class=\"blank level0\" ></th>        <th class=\"col_heading level0 col0\" >Year</th>        <th class=\"col_heading level0 col1\" >GDP growth (annual %)</th>        <th class=\"col_heading level0 col2\" >Gross capital formation (% of GDP)</th>        <th class=\"col_heading level0 col3\" >Population growth (annual %)</th>        <th class=\"col_heading level0 col4\" >Broad money growth (annual %)</th>        <th class=\"col_heading level0 col5\" >Final consumption expenditure (annual % growth)</th>        <th class=\"col_heading level0 col6\" >General government final consumption expenditure (annual % growth)</th>        <th class=\"col_heading level0 col7\" >Gross capital formation (annual % growth)</th>        <th class=\"col_heading level0 col8\" >Households and NPISHs Final consumption expenditure (annual % growth)</th>        <th class=\"col_heading level0 col9\" >Unemployment, total (% of total labor force) (national estimate)</th>    </tr></thead><tbody>\n",
       "                <tr>\n",
       "                        <th id=\"T_1f18ee52_c75e_11ea_b7cd_a0d37a3fe093level0_row0\" class=\"row_heading level0 row0\" >count</th>\n",
       "                        <td id=\"T_1f18ee52_c75e_11ea_b7cd_a0d37a3fe093row0_col0\" class=\"data row0 col0\" >49</td>\n",
       "                        <td id=\"T_1f18ee52_c75e_11ea_b7cd_a0d37a3fe093row0_col1\" class=\"data row0 col1\" >49</td>\n",
       "                        <td id=\"T_1f18ee52_c75e_11ea_b7cd_a0d37a3fe093row0_col2\" class=\"data row0 col2\" >49</td>\n",
       "                        <td id=\"T_1f18ee52_c75e_11ea_b7cd_a0d37a3fe093row0_col3\" class=\"data row0 col3\" >49</td>\n",
       "                        <td id=\"T_1f18ee52_c75e_11ea_b7cd_a0d37a3fe093row0_col4\" class=\"data row0 col4\" >49</td>\n",
       "                        <td id=\"T_1f18ee52_c75e_11ea_b7cd_a0d37a3fe093row0_col5\" class=\"data row0 col5\" >49</td>\n",
       "                        <td id=\"T_1f18ee52_c75e_11ea_b7cd_a0d37a3fe093row0_col6\" class=\"data row0 col6\" >49</td>\n",
       "                        <td id=\"T_1f18ee52_c75e_11ea_b7cd_a0d37a3fe093row0_col7\" class=\"data row0 col7\" >49</td>\n",
       "                        <td id=\"T_1f18ee52_c75e_11ea_b7cd_a0d37a3fe093row0_col8\" class=\"data row0 col8\" >49</td>\n",
       "                        <td id=\"T_1f18ee52_c75e_11ea_b7cd_a0d37a3fe093row0_col9\" class=\"data row0 col9\" >49</td>\n",
       "            </tr>\n",
       "            <tr>\n",
       "                        <th id=\"T_1f18ee52_c75e_11ea_b7cd_a0d37a3fe093level0_row1\" class=\"row_heading level0 row1\" >mean</th>\n",
       "                        <td id=\"T_1f18ee52_c75e_11ea_b7cd_a0d37a3fe093row1_col0\" class=\"data row1 col0\" >1993</td>\n",
       "                        <td id=\"T_1f18ee52_c75e_11ea_b7cd_a0d37a3fe093row1_col1\" class=\"data row1 col1\" >7.19424</td>\n",
       "                        <td id=\"T_1f18ee52_c75e_11ea_b7cd_a0d37a3fe093row1_col2\" class=\"data row1 col2\" >32.4055</td>\n",
       "                        <td id=\"T_1f18ee52_c75e_11ea_b7cd_a0d37a3fe093row1_col3\" class=\"data row1 col3\" >1.04524</td>\n",
       "                        <td id=\"T_1f18ee52_c75e_11ea_b7cd_a0d37a3fe093row1_col4\" class=\"data row1 col4\" >20.1139</td>\n",
       "                        <td id=\"T_1f18ee52_c75e_11ea_b7cd_a0d37a3fe093row1_col5\" class=\"data row1 col5\" >5.75866</td>\n",
       "                        <td id=\"T_1f18ee52_c75e_11ea_b7cd_a0d37a3fe093row1_col6\" class=\"data row1 col6\" >5.37851</td>\n",
       "                        <td id=\"T_1f18ee52_c75e_11ea_b7cd_a0d37a3fe093row1_col7\" class=\"data row1 col7\" >8.98899</td>\n",
       "                        <td id=\"T_1f18ee52_c75e_11ea_b7cd_a0d37a3fe093row1_col8\" class=\"data row1 col8\" >5.81243</td>\n",
       "                        <td id=\"T_1f18ee52_c75e_11ea_b7cd_a0d37a3fe093row1_col9\" class=\"data row1 col9\" >3.67854</td>\n",
       "            </tr>\n",
       "            <tr>\n",
       "                        <th id=\"T_1f18ee52_c75e_11ea_b7cd_a0d37a3fe093level0_row2\" class=\"row_heading level0 row2\" >std</th>\n",
       "                        <td id=\"T_1f18ee52_c75e_11ea_b7cd_a0d37a3fe093row2_col0\" class=\"data row2 col0\" >14.2887</td>\n",
       "                        <td id=\"T_1f18ee52_c75e_11ea_b7cd_a0d37a3fe093row2_col1\" class=\"data row2 col1\" >4.20858</td>\n",
       "                        <td id=\"T_1f18ee52_c75e_11ea_b7cd_a0d37a3fe093row2_col2\" class=\"data row2 col2\" >4.0982</td>\n",
       "                        <td id=\"T_1f18ee52_c75e_11ea_b7cd_a0d37a3fe093row2_col3\" class=\"data row2 col3\" >0.516525</td>\n",
       "                        <td id=\"T_1f18ee52_c75e_11ea_b7cd_a0d37a3fe093row2_col4\" class=\"data row2 col4\" >14.7572</td>\n",
       "                        <td id=\"T_1f18ee52_c75e_11ea_b7cd_a0d37a3fe093row2_col5\" class=\"data row2 col5\" >3.61525</td>\n",
       "                        <td id=\"T_1f18ee52_c75e_11ea_b7cd_a0d37a3fe093row2_col6\" class=\"data row2 col6\" >2.61039</td>\n",
       "                        <td id=\"T_1f18ee52_c75e_11ea_b7cd_a0d37a3fe093row2_col7\" class=\"data row2 col7\" >12.4987</td>\n",
       "                        <td id=\"T_1f18ee52_c75e_11ea_b7cd_a0d37a3fe093row2_col8\" class=\"data row2 col8\" >4.20946</td>\n",
       "                        <td id=\"T_1f18ee52_c75e_11ea_b7cd_a0d37a3fe093row2_col9\" class=\"data row2 col9\" >0.958478</td>\n",
       "            </tr>\n",
       "            <tr>\n",
       "                        <th id=\"T_1f18ee52_c75e_11ea_b7cd_a0d37a3fe093level0_row3\" class=\"row_heading level0 row3\" >min</th>\n",
       "                        <td id=\"T_1f18ee52_c75e_11ea_b7cd_a0d37a3fe093row3_col0\" class=\"data row3 col0\" >1969</td>\n",
       "                        <td id=\"T_1f18ee52_c75e_11ea_b7cd_a0d37a3fe093row3_col1\" class=\"data row3 col1\" >-5.47122</td>\n",
       "                        <td id=\"T_1f18ee52_c75e_11ea_b7cd_a0d37a3fe093row3_col2\" class=\"data row3 col2\" >21.4048</td>\n",
       "                        <td id=\"T_1f18ee52_c75e_11ea_b7cd_a0d37a3fe093row3_col3\" class=\"data row3 col3\" >0.211998</td>\n",
       "                        <td id=\"T_1f18ee52_c75e_11ea_b7cd_a0d37a3fe093row3_col4\" class=\"data row3 col4\" >2.98069</td>\n",
       "                        <td id=\"T_1f18ee52_c75e_11ea_b7cd_a0d37a3fe093row3_col5\" class=\"data row3 col5\" >-9.28882</td>\n",
       "                        <td id=\"T_1f18ee52_c75e_11ea_b7cd_a0d37a3fe093row3_col6\" class=\"data row3 col6\" >0.560957</td>\n",
       "                        <td id=\"T_1f18ee52_c75e_11ea_b7cd_a0d37a3fe093row3_col7\" class=\"data row3 col7\" >-29.4033</td>\n",
       "                        <td id=\"T_1f18ee52_c75e_11ea_b7cd_a0d37a3fe093row3_col8\" class=\"data row3 col8\" >-11.8943</td>\n",
       "                        <td id=\"T_1f18ee52_c75e_11ea_b7cd_a0d37a3fe093row3_col9\" class=\"data row3 col9\" >2.048</td>\n",
       "            </tr>\n",
       "            <tr>\n",
       "                        <th id=\"T_1f18ee52_c75e_11ea_b7cd_a0d37a3fe093level0_row4\" class=\"row_heading level0 row4\" >25%</th>\n",
       "                        <td id=\"T_1f18ee52_c75e_11ea_b7cd_a0d37a3fe093row4_col0\" class=\"data row4 col0\" >1981</td>\n",
       "                        <td id=\"T_1f18ee52_c75e_11ea_b7cd_a0d37a3fe093row4_col1\" class=\"data row4 col1\" >3.92368</td>\n",
       "                        <td id=\"T_1f18ee52_c75e_11ea_b7cd_a0d37a3fe093row4_col2\" class=\"data row4 col2\" >29.9436</td>\n",
       "                        <td id=\"T_1f18ee52_c75e_11ea_b7cd_a0d37a3fe093row4_col3\" class=\"data row4 col3\" >0.577957</td>\n",
       "                        <td id=\"T_1f18ee52_c75e_11ea_b7cd_a0d37a3fe093row4_col4\" class=\"data row4 col4\" >9.88595</td>\n",
       "                        <td id=\"T_1f18ee52_c75e_11ea_b7cd_a0d37a3fe093row4_col5\" class=\"data row4 col5\" >2.98115</td>\n",
       "                        <td id=\"T_1f18ee52_c75e_11ea_b7cd_a0d37a3fe093row4_col6\" class=\"data row4 col6\" >3.38777</td>\n",
       "                        <td id=\"T_1f18ee52_c75e_11ea_b7cd_a0d37a3fe093row4_col7\" class=\"data row4 col7\" >2.41712</td>\n",
       "                        <td id=\"T_1f18ee52_c75e_11ea_b7cd_a0d37a3fe093row4_col8\" class=\"data row4 col8\" >2.90059</td>\n",
       "                        <td id=\"T_1f18ee52_c75e_11ea_b7cd_a0d37a3fe093row4_col9\" class=\"data row4 col9\" >3.1673</td>\n",
       "            </tr>\n",
       "            <tr>\n",
       "                        <th id=\"T_1f18ee52_c75e_11ea_b7cd_a0d37a3fe093level0_row5\" class=\"row_heading level0 row5\" >50%</th>\n",
       "                        <td id=\"T_1f18ee52_c75e_11ea_b7cd_a0d37a3fe093row5_col0\" class=\"data row5 col0\" >1993</td>\n",
       "                        <td id=\"T_1f18ee52_c75e_11ea_b7cd_a0d37a3fe093row5_col1\" class=\"data row5 col1\" >7.43243</td>\n",
       "                        <td id=\"T_1f18ee52_c75e_11ea_b7cd_a0d37a3fe093row5_col2\" class=\"data row5 col2\" >32.2483</td>\n",
       "                        <td id=\"T_1f18ee52_c75e_11ea_b7cd_a0d37a3fe093row5_col3\" class=\"data row5 col3\" >0.98513</td>\n",
       "                        <td id=\"T_1f18ee52_c75e_11ea_b7cd_a0d37a3fe093row5_col4\" class=\"data row5 col4\" >17.1742</td>\n",
       "                        <td id=\"T_1f18ee52_c75e_11ea_b7cd_a0d37a3fe093row5_col5\" class=\"data row5 col5\" >6.52326</td>\n",
       "                        <td id=\"T_1f18ee52_c75e_11ea_b7cd_a0d37a3fe093row5_col6\" class=\"data row5 col6\" >5.03106</td>\n",
       "                        <td id=\"T_1f18ee52_c75e_11ea_b7cd_a0d37a3fe093row5_col7\" class=\"data row5 col7\" >7.56611</td>\n",
       "                        <td id=\"T_1f18ee52_c75e_11ea_b7cd_a0d37a3fe093row5_col8\" class=\"data row5 col8\" >6.85303</td>\n",
       "                        <td id=\"T_1f18ee52_c75e_11ea_b7cd_a0d37a3fe093row5_col9\" class=\"data row5 col9\" >3.7</td>\n",
       "            </tr>\n",
       "            <tr>\n",
       "                        <th id=\"T_1f18ee52_c75e_11ea_b7cd_a0d37a3fe093level0_row6\" class=\"row_heading level0 row6\" >75%</th>\n",
       "                        <td id=\"T_1f18ee52_c75e_11ea_b7cd_a0d37a3fe093row6_col0\" class=\"data row6 col0\" >2005</td>\n",
       "                        <td id=\"T_1f18ee52_c75e_11ea_b7cd_a0d37a3fe093row6_col1\" class=\"data row6 col1\" >10.354</td>\n",
       "                        <td id=\"T_1f18ee52_c75e_11ea_b7cd_a0d37a3fe093row6_col2\" class=\"data row6 col2\" >34.4557</td>\n",
       "                        <td id=\"T_1f18ee52_c75e_11ea_b7cd_a0d37a3fe093row6_col3\" class=\"data row6 col3\" >1.5192</td>\n",
       "                        <td id=\"T_1f18ee52_c75e_11ea_b7cd_a0d37a3fe093row6_col4\" class=\"data row6 col4\" >26.8946</td>\n",
       "                        <td id=\"T_1f18ee52_c75e_11ea_b7cd_a0d37a3fe093row6_col5\" class=\"data row6 col5\" >8.16892</td>\n",
       "                        <td id=\"T_1f18ee52_c75e_11ea_b7cd_a0d37a3fe093row6_col6\" class=\"data row6 col6\" >7.15811</td>\n",
       "                        <td id=\"T_1f18ee52_c75e_11ea_b7cd_a0d37a3fe093row6_col7\" class=\"data row6 col7\" >15.9489</td>\n",
       "                        <td id=\"T_1f18ee52_c75e_11ea_b7cd_a0d37a3fe093row6_col8\" class=\"data row6 col8\" >8.92729</td>\n",
       "                        <td id=\"T_1f18ee52_c75e_11ea_b7cd_a0d37a3fe093row6_col9\" class=\"data row6 col9\" >4.068</td>\n",
       "            </tr>\n",
       "            <tr>\n",
       "                        <th id=\"T_1f18ee52_c75e_11ea_b7cd_a0d37a3fe093level0_row7\" class=\"row_heading level0 row7\" >max</th>\n",
       "                        <td id=\"T_1f18ee52_c75e_11ea_b7cd_a0d37a3fe093row7_col0\" class=\"data row7 col0\" >2017</td>\n",
       "                        <td id=\"T_1f18ee52_c75e_11ea_b7cd_a0d37a3fe093row7_col1\" class=\"data row7 col1\" >14.8276</td>\n",
       "                        <td id=\"T_1f18ee52_c75e_11ea_b7cd_a0d37a3fe093row7_col2\" class=\"data row7 col2\" >41.3741</td>\n",
       "                        <td id=\"T_1f18ee52_c75e_11ea_b7cd_a0d37a3fe093row7_col3\" class=\"data row7 col3\" >2.26343</td>\n",
       "                        <td id=\"T_1f18ee52_c75e_11ea_b7cd_a0d37a3fe093row7_col4\" class=\"data row7 col4\" >85.2031</td>\n",
       "                        <td id=\"T_1f18ee52_c75e_11ea_b7cd_a0d37a3fe093row7_col5\" class=\"data row7 col5\" >10.8344</td>\n",
       "                        <td id=\"T_1f18ee52_c75e_11ea_b7cd_a0d37a3fe093row7_col6\" class=\"data row7 col6\" >11.7428</td>\n",
       "                        <td id=\"T_1f18ee52_c75e_11ea_b7cd_a0d37a3fe093row7_col7\" class=\"data row7 col7\" >32.0983</td>\n",
       "                        <td id=\"T_1f18ee52_c75e_11ea_b7cd_a0d37a3fe093row7_col8\" class=\"data row7 col8\" >11.7118</td>\n",
       "                        <td id=\"T_1f18ee52_c75e_11ea_b7cd_a0d37a3fe093row7_col9\" class=\"data row7 col9\" >6.963</td>\n",
       "            </tr>\n",
       "    </tbody></table>"
      ],
      "text/plain": [
       "<pandas.io.formats.style.Styler at 0x1d0dc628188>"
      ]
     },
     "execution_count": 7,
     "metadata": {},
     "output_type": "execute_result"
    }
   ],
   "source": [
    "data.describe().style.highlight_max(color='red').highlight_min(color = 'green')"
   ]
  },
  {
   "cell_type": "code",
   "execution_count": 8,
   "metadata": {},
   "outputs": [],
   "source": [
    "data  = data.replace(\"..\",\"nan\")\n",
    "# set the index to the year column\n",
    "data = data.set_index('Year')\n",
    "# set the data type and select rows up to 2016\n",
    "data = data.astype(float)\n",
    "data = data.loc['1969':'2016']"
   ]
  },
  {
   "cell_type": "markdown",
   "metadata": {},
   "source": [
    "# Changing Column name"
   ]
  },
  {
   "cell_type": "code",
   "execution_count": 9,
   "metadata": {},
   "outputs": [
    {
     "data": {
      "text/plain": [
       "Index(['GDP growth (annual %)', 'Gross capital formation (% of GDP)',\n",
       "       'Population growth (annual %)', 'Birth rate, crude (per 1,000 people)',\n",
       "       'Broad money growth (annual %)',\n",
       "       'Final consumption expenditure (annual % growth)',\n",
       "       'General government final consumption expenditure (annual % growth)',\n",
       "       'Gross capital formation (annual % growth)',\n",
       "       'Households and NPISHs Final consumption expenditure (annual % growth)',\n",
       "       'Unemployment, total (% of total labor force) (national estimate)'],\n",
       "      dtype='object')"
      ]
     },
     "execution_count": 9,
     "metadata": {},
     "output_type": "execute_result"
    }
   ],
   "source": [
    "data.columns"
   ]
  },
  {
   "cell_type": "code",
   "execution_count": 10,
   "metadata": {},
   "outputs": [
    {
     "data": {
      "text/plain": [
       "Index(['gdp_growth', 'gross_capital_formation', 'pop_growth', 'birth_rate',\n",
       "       'broad_money_growth', 'final_consum_growth', 'gov_final_consum_growth',\n",
       "       'gross_cap_form_growth', 'hh_consum_growth', 'unemployment'],\n",
       "      dtype='object')"
      ]
     },
     "execution_count": 10,
     "metadata": {},
     "output_type": "execute_result"
    }
   ],
   "source": [
    "column_names = {'Unemployment, total (% of total labor force) (national estimate)'\n",
    "                :'unemployment',\n",
    "'GDP growth (annual %)': 'gdp_growth',\n",
    "'Gross capital formation (% of GDP)':'gross_capital_formation',\n",
    "'Population growth (annual %)':'pop_growth',\n",
    "'Birth rate, crude (per 1,000 people)':'birth_rate',\n",
    "'Broad money growth (annual %)':'broad_money_growth',\n",
    "'Final consumption expenditure (% of GDP)':'final_consum_gdp',\n",
    "'Final consumption expenditure (annual % growth)':'final_consum_growth',\n",
    "'General government final consumption expenditure (annual % growth)'\n",
    "                :'gov_final_consum_growth',\n",
    "                'Gross capital formation (annual % growth)'\n",
    "                :'gross_cap_form_growth',\n",
    "'Households and NPISHs Final consumption expenditure (annual % growth)'\n",
    "                :'hh_consum_growth'}\n",
    "# rename columns\n",
    "data = data.rename(columns = column_names)\n",
    "data.columns"
   ]
  },
  {
   "cell_type": "markdown",
   "metadata": {},
   "source": [
    "# Checking the Missing values"
   ]
  },
  {
   "cell_type": "code",
   "execution_count": 11,
   "metadata": {},
   "outputs": [
    {
     "data": {
      "text/html": [
       "<style  type=\"text/css\" >\n",
       "</style><table id=\"T_1f607ef4_c75e_11ea_98ef_a0d37a3fe093\" ><thead>    <tr>        <th class=\"blank level0\" ></th>        <th class=\"col_heading level0 col0\" >gdp_growth</th>        <th class=\"col_heading level0 col1\" >gross_capital_formation</th>        <th class=\"col_heading level0 col2\" >pop_growth</th>        <th class=\"col_heading level0 col3\" >birth_rate</th>        <th class=\"col_heading level0 col4\" >broad_money_growth</th>        <th class=\"col_heading level0 col5\" >final_consum_growth</th>        <th class=\"col_heading level0 col6\" >gov_final_consum_growth</th>        <th class=\"col_heading level0 col7\" >gross_cap_form_growth</th>        <th class=\"col_heading level0 col8\" >hh_consum_growth</th>        <th class=\"col_heading level0 col9\" >unemployment</th>    </tr>    <tr>        <th class=\"index_name level0\" >Year</th>        <th class=\"blank\" ></th>        <th class=\"blank\" ></th>        <th class=\"blank\" ></th>        <th class=\"blank\" ></th>        <th class=\"blank\" ></th>        <th class=\"blank\" ></th>        <th class=\"blank\" ></th>        <th class=\"blank\" ></th>        <th class=\"blank\" ></th>        <th class=\"blank\" ></th>    </tr></thead><tbody>\n",
       "                <tr>\n",
       "                        <th id=\"T_1f607ef4_c75e_11ea_98ef_a0d37a3fe093level0_row0\" class=\"row_heading level0 row0\" >1969</th>\n",
       "                        <td id=\"T_1f607ef4_c75e_11ea_98ef_a0d37a3fe093row0_col0\" class=\"data row0 col0\" >14.5412</td>\n",
       "                        <td id=\"T_1f607ef4_c75e_11ea_98ef_a0d37a3fe093row0_col1\" class=\"data row0 col1\" >29.9436</td>\n",
       "                        <td id=\"T_1f607ef4_c75e_11ea_98ef_a0d37a3fe093row0_col2\" class=\"data row0 col2\" >2.26343</td>\n",
       "                        <td id=\"T_1f607ef4_c75e_11ea_98ef_a0d37a3fe093row0_col3\" class=\"data row0 col3\" >30.663</td>\n",
       "                        <td id=\"T_1f607ef4_c75e_11ea_98ef_a0d37a3fe093row0_col4\" class=\"data row0 col4\" >60.9847</td>\n",
       "                        <td id=\"T_1f607ef4_c75e_11ea_98ef_a0d37a3fe093row0_col5\" class=\"data row0 col5\" >10.6932</td>\n",
       "                        <td id=\"T_1f607ef4_c75e_11ea_98ef_a0d37a3fe093row0_col6\" class=\"data row0 col6\" >10.6408</td>\n",
       "                        <td id=\"T_1f607ef4_c75e_11ea_98ef_a0d37a3fe093row0_col7\" class=\"data row0 col7\" >29.9081</td>\n",
       "                        <td id=\"T_1f607ef4_c75e_11ea_98ef_a0d37a3fe093row0_col8\" class=\"data row0 col8\" >10.7003</td>\n",
       "                        <td id=\"T_1f607ef4_c75e_11ea_98ef_a0d37a3fe093row0_col9\" class=\"data row0 col9\" >4.86</td>\n",
       "            </tr>\n",
       "            <tr>\n",
       "                        <th id=\"T_1f607ef4_c75e_11ea_98ef_a0d37a3fe093level0_row1\" class=\"row_heading level0 row1\" >1970</th>\n",
       "                        <td id=\"T_1f607ef4_c75e_11ea_98ef_a0d37a3fe093row1_col0\" class=\"data row1 col0\" >9.99741</td>\n",
       "                        <td id=\"T_1f607ef4_c75e_11ea_98ef_a0d37a3fe093row1_col1\" class=\"data row1 col1\" >26.3382</td>\n",
       "                        <td id=\"T_1f607ef4_c75e_11ea_98ef_a0d37a3fe093row1_col2\" class=\"data row1 col2\" >2.18417</td>\n",
       "                        <td id=\"T_1f607ef4_c75e_11ea_98ef_a0d37a3fe093row1_col3\" class=\"data row1 col3\" >31.2</td>\n",
       "                        <td id=\"T_1f607ef4_c75e_11ea_98ef_a0d37a3fe093row1_col4\" class=\"data row1 col4\" >27.4229</td>\n",
       "                        <td id=\"T_1f607ef4_c75e_11ea_98ef_a0d37a3fe093row1_col5\" class=\"data row1 col5\" >10.1615</td>\n",
       "                        <td id=\"T_1f607ef4_c75e_11ea_98ef_a0d37a3fe093row1_col6\" class=\"data row1 col6\" >7.27957</td>\n",
       "                        <td id=\"T_1f607ef4_c75e_11ea_98ef_a0d37a3fe093row1_col7\" class=\"data row1 col7\" >0.0586675</td>\n",
       "                        <td id=\"T_1f607ef4_c75e_11ea_98ef_a0d37a3fe093row1_col8\" class=\"data row1 col8\" >10.5573</td>\n",
       "                        <td id=\"T_1f607ef4_c75e_11ea_98ef_a0d37a3fe093row1_col9\" class=\"data row1 col9\" >4.51</td>\n",
       "            </tr>\n",
       "            <tr>\n",
       "                        <th id=\"T_1f607ef4_c75e_11ea_98ef_a0d37a3fe093level0_row2\" class=\"row_heading level0 row2\" >1971</th>\n",
       "                        <td id=\"T_1f607ef4_c75e_11ea_98ef_a0d37a3fe093row2_col0\" class=\"data row2 col0\" >10.4547</td>\n",
       "                        <td id=\"T_1f607ef4_c75e_11ea_98ef_a0d37a3fe093row2_col1\" class=\"data row2 col1\" >25.5585</td>\n",
       "                        <td id=\"T_1f607ef4_c75e_11ea_98ef_a0d37a3fe093row2_col2\" class=\"data row2 col2\" >1.97132</td>\n",
       "                        <td id=\"T_1f607ef4_c75e_11ea_98ef_a0d37a3fe093row2_col3\" class=\"data row2 col3\" >31.2</td>\n",
       "                        <td id=\"T_1f607ef4_c75e_11ea_98ef_a0d37a3fe093row2_col4\" class=\"data row2 col4\" >20.8445</td>\n",
       "                        <td id=\"T_1f607ef4_c75e_11ea_98ef_a0d37a3fe093row2_col5\" class=\"data row2 col5\" >9.33043</td>\n",
       "                        <td id=\"T_1f607ef4_c75e_11ea_98ef_a0d37a3fe093row2_col6\" class=\"data row2 col6\" >8.61055</td>\n",
       "                        <td id=\"T_1f607ef4_c75e_11ea_98ef_a0d37a3fe093row2_col7\" class=\"data row2 col7\" >15.1729</td>\n",
       "                        <td id=\"T_1f607ef4_c75e_11ea_98ef_a0d37a3fe093row2_col8\" class=\"data row2 col8\" >9.42697</td>\n",
       "                        <td id=\"T_1f607ef4_c75e_11ea_98ef_a0d37a3fe093row2_col9\" class=\"data row2 col9\" >4.57</td>\n",
       "            </tr>\n",
       "            <tr>\n",
       "                        <th id=\"T_1f607ef4_c75e_11ea_98ef_a0d37a3fe093level0_row3\" class=\"row_heading level0 row3\" >1972</th>\n",
       "                        <td id=\"T_1f607ef4_c75e_11ea_98ef_a0d37a3fe093row3_col0\" class=\"data row3 col0\" >7.15071</td>\n",
       "                        <td id=\"T_1f607ef4_c75e_11ea_98ef_a0d37a3fe093row3_col1\" class=\"data row3 col1\" >21.4048</td>\n",
       "                        <td id=\"T_1f607ef4_c75e_11ea_98ef_a0d37a3fe093row3_col2\" class=\"data row3 col2\" >1.876</td>\n",
       "                        <td id=\"T_1f607ef4_c75e_11ea_98ef_a0d37a3fe093row3_col3\" class=\"data row3 col3\" >28.4</td>\n",
       "                        <td id=\"T_1f607ef4_c75e_11ea_98ef_a0d37a3fe093row3_col4\" class=\"data row3 col4\" >33.815</td>\n",
       "                        <td id=\"T_1f607ef4_c75e_11ea_98ef_a0d37a3fe093row3_col5\" class=\"data row3 col5\" >5.78846</td>\n",
       "                        <td id=\"T_1f607ef4_c75e_11ea_98ef_a0d37a3fe093row3_col6\" class=\"data row3 col6\" >8.13482</td>\n",
       "                        <td id=\"T_1f607ef4_c75e_11ea_98ef_a0d37a3fe093row3_col7\" class=\"data row3 col7\" >-13.0567</td>\n",
       "                        <td id=\"T_1f607ef4_c75e_11ea_98ef_a0d37a3fe093row3_col8\" class=\"data row3 col8\" >5.47136</td>\n",
       "                        <td id=\"T_1f607ef4_c75e_11ea_98ef_a0d37a3fe093row3_col9\" class=\"data row3 col9\" >4.59</td>\n",
       "            </tr>\n",
       "            <tr>\n",
       "                        <th id=\"T_1f607ef4_c75e_11ea_98ef_a0d37a3fe093level0_row4\" class=\"row_heading level0 row4\" >1973</th>\n",
       "                        <td id=\"T_1f607ef4_c75e_11ea_98ef_a0d37a3fe093row4_col0\" class=\"data row4 col0\" >14.8276</td>\n",
       "                        <td id=\"T_1f607ef4_c75e_11ea_98ef_a0d37a3fe093row4_col1\" class=\"data row4 col1\" >25.8729</td>\n",
       "                        <td id=\"T_1f607ef4_c75e_11ea_98ef_a0d37a3fe093row4_col2\" class=\"data row4 col2\" >1.76829</td>\n",
       "                        <td id=\"T_1f607ef4_c75e_11ea_98ef_a0d37a3fe093row4_col3\" class=\"data row4 col3\" >28.3</td>\n",
       "                        <td id=\"T_1f607ef4_c75e_11ea_98ef_a0d37a3fe093row4_col4\" class=\"data row4 col4\" >36.4156</td>\n",
       "                        <td id=\"T_1f607ef4_c75e_11ea_98ef_a0d37a3fe093row4_col5\" class=\"data row4 col5\" >8.08995</td>\n",
       "                        <td id=\"T_1f607ef4_c75e_11ea_98ef_a0d37a3fe093row4_col6\" class=\"data row4 col6\" >2.28773</td>\n",
       "                        <td id=\"T_1f607ef4_c75e_11ea_98ef_a0d37a3fe093row4_col7\" class=\"data row4 col7\" >32.0983</td>\n",
       "                        <td id=\"T_1f607ef4_c75e_11ea_98ef_a0d37a3fe093row4_col8\" class=\"data row4 col8\" >8.92729</td>\n",
       "                        <td id=\"T_1f607ef4_c75e_11ea_98ef_a0d37a3fe093row4_col9\" class=\"data row4 col9\" >4.04</td>\n",
       "            </tr>\n",
       "            <tr>\n",
       "                        <th id=\"T_1f607ef4_c75e_11ea_98ef_a0d37a3fe093level0_row5\" class=\"row_heading level0 row5\" >1974</th>\n",
       "                        <td id=\"T_1f607ef4_c75e_11ea_98ef_a0d37a3fe093row5_col0\" class=\"data row5 col0\" >9.46087</td>\n",
       "                        <td id=\"T_1f607ef4_c75e_11ea_98ef_a0d37a3fe093row5_col1\" class=\"data row5 col1\" >32.5334</td>\n",
       "                        <td id=\"T_1f607ef4_c75e_11ea_98ef_a0d37a3fe093row5_col2\" class=\"data row5 col2\" >1.71271</td>\n",
       "                        <td id=\"T_1f607ef4_c75e_11ea_98ef_a0d37a3fe093row5_col3\" class=\"data row5 col3\" >26.6</td>\n",
       "                        <td id=\"T_1f607ef4_c75e_11ea_98ef_a0d37a3fe093row5_col4\" class=\"data row5 col4\" >24.0367</td>\n",
       "                        <td id=\"T_1f607ef4_c75e_11ea_98ef_a0d37a3fe093row5_col5\" class=\"data row5 col5\" >7.32385</td>\n",
       "                        <td id=\"T_1f607ef4_c75e_11ea_98ef_a0d37a3fe093row5_col6\" class=\"data row5 col6\" >7.28858</td>\n",
       "                        <td id=\"T_1f607ef4_c75e_11ea_98ef_a0d37a3fe093row5_col7\" class=\"data row5 col7\" >31.4931</td>\n",
       "                        <td id=\"T_1f607ef4_c75e_11ea_98ef_a0d37a3fe093row5_col8\" class=\"data row5 col8\" >7.32834</td>\n",
       "                        <td id=\"T_1f607ef4_c75e_11ea_98ef_a0d37a3fe093row5_col9\" class=\"data row5 col9\" >4.15</td>\n",
       "            </tr>\n",
       "            <tr>\n",
       "                        <th id=\"T_1f607ef4_c75e_11ea_98ef_a0d37a3fe093level0_row6\" class=\"row_heading level0 row6\" >1975</th>\n",
       "                        <td id=\"T_1f607ef4_c75e_11ea_98ef_a0d37a3fe093row6_col0\" class=\"data row6 col0\" >7.86351</td>\n",
       "                        <td id=\"T_1f607ef4_c75e_11ea_98ef_a0d37a3fe093row6_col1\" class=\"data row6 col1\" >28.9593</td>\n",
       "                        <td id=\"T_1f607ef4_c75e_11ea_98ef_a0d37a3fe093row6_col2\" class=\"data row6 col2\" >1.682</td>\n",
       "                        <td id=\"T_1f607ef4_c75e_11ea_98ef_a0d37a3fe093row6_col3\" class=\"data row6 col3\" >24.8</td>\n",
       "                        <td id=\"T_1f607ef4_c75e_11ea_98ef_a0d37a3fe093row6_col4\" class=\"data row6 col4\" >28.2316</td>\n",
       "                        <td id=\"T_1f607ef4_c75e_11ea_98ef_a0d37a3fe093row6_col5\" class=\"data row6 col5\" >5.71445</td>\n",
       "                        <td id=\"T_1f607ef4_c75e_11ea_98ef_a0d37a3fe093row6_col6\" class=\"data row6 col6\" >6.96047</td>\n",
       "                        <td id=\"T_1f607ef4_c75e_11ea_98ef_a0d37a3fe093row6_col7\" class=\"data row6 col7\" >-1.49372</td>\n",
       "                        <td id=\"T_1f607ef4_c75e_11ea_98ef_a0d37a3fe093row6_col8\" class=\"data row6 col8\" >5.53953</td>\n",
       "                        <td id=\"T_1f607ef4_c75e_11ea_98ef_a0d37a3fe093row6_col9\" class=\"data row6 col9\" >4.18</td>\n",
       "            </tr>\n",
       "            <tr>\n",
       "                        <th id=\"T_1f607ef4_c75e_11ea_98ef_a0d37a3fe093level0_row7\" class=\"row_heading level0 row7\" >1976</th>\n",
       "                        <td id=\"T_1f607ef4_c75e_11ea_98ef_a0d37a3fe093row7_col0\" class=\"data row7 col0\" >13.1152</td>\n",
       "                        <td id=\"T_1f607ef4_c75e_11ea_98ef_a0d37a3fe093row7_col1\" class=\"data row7 col1\" >27.556</td>\n",
       "                        <td id=\"T_1f607ef4_c75e_11ea_98ef_a0d37a3fe093row7_col2\" class=\"data row7 col2\" >1.59656</td>\n",
       "                        <td id=\"T_1f607ef4_c75e_11ea_98ef_a0d37a3fe093row7_col3\" class=\"data row7 col3\" >22.2</td>\n",
       "                        <td id=\"T_1f607ef4_c75e_11ea_98ef_a0d37a3fe093row7_col4\" class=\"data row7 col4\" >33.4847</td>\n",
       "                        <td id=\"T_1f607ef4_c75e_11ea_98ef_a0d37a3fe093row7_col5\" class=\"data row7 col5\" >7.18271</td>\n",
       "                        <td id=\"T_1f607ef4_c75e_11ea_98ef_a0d37a3fe093row7_col6\" class=\"data row7 col6\" >0.560957</td>\n",
       "                        <td id=\"T_1f607ef4_c75e_11ea_98ef_a0d37a3fe093row7_col7\" class=\"data row7 col7\" >23.0061</td>\n",
       "                        <td id=\"T_1f607ef4_c75e_11ea_98ef_a0d37a3fe093row7_col8\" class=\"data row7 col8\" >8.25493</td>\n",
       "                        <td id=\"T_1f607ef4_c75e_11ea_98ef_a0d37a3fe093row7_col9\" class=\"data row7 col9\" >3.8076</td>\n",
       "            </tr>\n",
       "            <tr>\n",
       "                        <th id=\"T_1f607ef4_c75e_11ea_98ef_a0d37a3fe093level0_row8\" class=\"row_heading level0 row8\" >1977</th>\n",
       "                        <td id=\"T_1f607ef4_c75e_11ea_98ef_a0d37a3fe093row8_col0\" class=\"data row8 col0\" >12.2777</td>\n",
       "                        <td id=\"T_1f607ef4_c75e_11ea_98ef_a0d37a3fe093row8_col1\" class=\"data row8 col1\" >30.6307</td>\n",
       "                        <td id=\"T_1f607ef4_c75e_11ea_98ef_a0d37a3fe093row8_col2\" class=\"data row8 col2\" >1.55904</td>\n",
       "                        <td id=\"T_1f607ef4_c75e_11ea_98ef_a0d37a3fe093row8_col3\" class=\"data row8 col3\" >22.7</td>\n",
       "                        <td id=\"T_1f607ef4_c75e_11ea_98ef_a0d37a3fe093row8_col4\" class=\"data row8 col4\" >39.7058</td>\n",
       "                        <td id=\"T_1f607ef4_c75e_11ea_98ef_a0d37a3fe093row8_col5\" class=\"data row8 col5\" >5.70116</td>\n",
       "                        <td id=\"T_1f607ef4_c75e_11ea_98ef_a0d37a3fe093row8_col6\" class=\"data row8 col6\" >7.46801</td>\n",
       "                        <td id=\"T_1f607ef4_c75e_11ea_98ef_a0d37a3fe093row8_col7\" class=\"data row8 col7\" >31.4864</td>\n",
       "                        <td id=\"T_1f607ef4_c75e_11ea_98ef_a0d37a3fe093row8_col8\" class=\"data row8 col8\" >5.40165</td>\n",
       "                        <td id=\"T_1f607ef4_c75e_11ea_98ef_a0d37a3fe093row8_col9\" class=\"data row8 col9\" >3.8057</td>\n",
       "            </tr>\n",
       "            <tr>\n",
       "                        <th id=\"T_1f607ef4_c75e_11ea_98ef_a0d37a3fe093level0_row9\" class=\"row_heading level0 row9\" >1978</th>\n",
       "                        <td id=\"T_1f607ef4_c75e_11ea_98ef_a0d37a3fe093row9_col0\" class=\"data row9 col0\" >10.7745</td>\n",
       "                        <td id=\"T_1f607ef4_c75e_11ea_98ef_a0d37a3fe093row9_col1\" class=\"data row9 col1\" >34.5325</td>\n",
       "                        <td id=\"T_1f607ef4_c75e_11ea_98ef_a0d37a3fe093row9_col2\" class=\"data row9 col2\" >1.5192</td>\n",
       "                        <td id=\"T_1f607ef4_c75e_11ea_98ef_a0d37a3fe093row9_col3\" class=\"data row9 col3\" >20.3</td>\n",
       "                        <td id=\"T_1f607ef4_c75e_11ea_98ef_a0d37a3fe093row9_col4\" class=\"data row9 col4\" >34.971</td>\n",
       "                        <td id=\"T_1f607ef4_c75e_11ea_98ef_a0d37a3fe093row9_col5\" class=\"data row9 col5\" >7.92407</td>\n",
       "                        <td id=\"T_1f607ef4_c75e_11ea_98ef_a0d37a3fe093row9_col6\" class=\"data row9 col6\" >5.58232</td>\n",
       "                        <td id=\"T_1f607ef4_c75e_11ea_98ef_a0d37a3fe093row9_col7\" class=\"data row9 col7\" >30.8731</td>\n",
       "                        <td id=\"T_1f607ef4_c75e_11ea_98ef_a0d37a3fe093row9_col8\" class=\"data row9 col8\" >8.34038</td>\n",
       "                        <td id=\"T_1f607ef4_c75e_11ea_98ef_a0d37a3fe093row9_col9\" class=\"data row9 col9\" >3.1673</td>\n",
       "            </tr>\n",
       "    </tbody></table>"
      ],
      "text/plain": [
       "<pandas.io.formats.style.Styler at 0x1d0e8a152c8>"
      ]
     },
     "execution_count": 11,
     "metadata": {},
     "output_type": "execute_result"
    }
   ],
   "source": [
    "data.head(10).style.highlight_null(null_color = \"red\")"
   ]
  },
  {
   "cell_type": "code",
   "execution_count": 12,
   "metadata": {},
   "outputs": [
    {
     "data": {
      "text/html": [
       "<div>\n",
       "<style scoped>\n",
       "    .dataframe tbody tr th:only-of-type {\n",
       "        vertical-align: middle;\n",
       "    }\n",
       "\n",
       "    .dataframe tbody tr th {\n",
       "        vertical-align: top;\n",
       "    }\n",
       "\n",
       "    .dataframe thead th {\n",
       "        text-align: right;\n",
       "    }\n",
       "</style>\n",
       "<table border=\"1\" class=\"dataframe\">\n",
       "  <thead>\n",
       "    <tr style=\"text-align: right;\">\n",
       "      <th></th>\n",
       "      <th>Total</th>\n",
       "      <th>Perventage</th>\n",
       "    </tr>\n",
       "  </thead>\n",
       "  <tbody>\n",
       "    <tr>\n",
       "      <td>gdp_growth</td>\n",
       "      <td>0</td>\n",
       "      <td>0.0</td>\n",
       "    </tr>\n",
       "    <tr>\n",
       "      <td>gross_capital_formation</td>\n",
       "      <td>0</td>\n",
       "      <td>0.0</td>\n",
       "    </tr>\n",
       "    <tr>\n",
       "      <td>pop_growth</td>\n",
       "      <td>0</td>\n",
       "      <td>0.0</td>\n",
       "    </tr>\n",
       "    <tr>\n",
       "      <td>birth_rate</td>\n",
       "      <td>0</td>\n",
       "      <td>0.0</td>\n",
       "    </tr>\n",
       "    <tr>\n",
       "      <td>broad_money_growth</td>\n",
       "      <td>0</td>\n",
       "      <td>0.0</td>\n",
       "    </tr>\n",
       "    <tr>\n",
       "      <td>final_consum_growth</td>\n",
       "      <td>0</td>\n",
       "      <td>0.0</td>\n",
       "    </tr>\n",
       "    <tr>\n",
       "      <td>gov_final_consum_growth</td>\n",
       "      <td>0</td>\n",
       "      <td>0.0</td>\n",
       "    </tr>\n",
       "    <tr>\n",
       "      <td>gross_cap_form_growth</td>\n",
       "      <td>0</td>\n",
       "      <td>0.0</td>\n",
       "    </tr>\n",
       "    <tr>\n",
       "      <td>hh_consum_growth</td>\n",
       "      <td>0</td>\n",
       "      <td>0.0</td>\n",
       "    </tr>\n",
       "    <tr>\n",
       "      <td>unemployment</td>\n",
       "      <td>0</td>\n",
       "      <td>0.0</td>\n",
       "    </tr>\n",
       "  </tbody>\n",
       "</table>\n",
       "</div>"
      ],
      "text/plain": [
       "                         Total  Perventage\n",
       "gdp_growth                   0         0.0\n",
       "gross_capital_formation      0         0.0\n",
       "pop_growth                   0         0.0\n",
       "birth_rate                   0         0.0\n",
       "broad_money_growth           0         0.0\n",
       "final_consum_growth          0         0.0\n",
       "gov_final_consum_growth      0         0.0\n",
       "gross_cap_form_growth        0         0.0\n",
       "hh_consum_growth             0         0.0\n",
       "unemployment                 0         0.0"
      ]
     },
     "execution_count": 12,
     "metadata": {},
     "output_type": "execute_result"
    }
   ],
   "source": [
    "total = data.isnull().sum().sort_values(ascending = True)\n",
    "percent = (data.isnull().sum()/data.isnull().count()).sort_values(ascending = True)\n",
    "missing_data = pd.concat([total,percent],axis = 1,keys = ['Total','Perventage'])\n",
    "missing_data"
   ]
  },
  {
   "cell_type": "markdown",
   "metadata": {},
   "source": [
    "# Removing Outlier"
   ]
  },
  {
   "cell_type": "code",
   "execution_count": 13,
   "metadata": {},
   "outputs": [
    {
     "data": {
      "text/html": [
       "<div>\n",
       "<style scoped>\n",
       "    .dataframe tbody tr th:only-of-type {\n",
       "        vertical-align: middle;\n",
       "    }\n",
       "\n",
       "    .dataframe tbody tr th {\n",
       "        vertical-align: top;\n",
       "    }\n",
       "\n",
       "    .dataframe thead th {\n",
       "        text-align: right;\n",
       "    }\n",
       "</style>\n",
       "<table border=\"1\" class=\"dataframe\">\n",
       "  <thead>\n",
       "    <tr style=\"text-align: right;\">\n",
       "      <th></th>\n",
       "      <th>gdp_growth</th>\n",
       "      <th>gross_capital_formation</th>\n",
       "      <th>pop_growth</th>\n",
       "      <th>birth_rate</th>\n",
       "      <th>broad_money_growth</th>\n",
       "      <th>final_consum_growth</th>\n",
       "      <th>gov_final_consum_growth</th>\n",
       "      <th>gross_cap_form_growth</th>\n",
       "      <th>hh_consum_growth</th>\n",
       "      <th>unemployment</th>\n",
       "    </tr>\n",
       "  </thead>\n",
       "  <tbody>\n",
       "    <tr>\n",
       "      <td>count</td>\n",
       "      <td>48.000000</td>\n",
       "      <td>48.000000</td>\n",
       "      <td>48.000000</td>\n",
       "      <td>48.000000</td>\n",
       "      <td>48.000000</td>\n",
       "      <td>48.000000</td>\n",
       "      <td>48.000000</td>\n",
       "      <td>48.000000</td>\n",
       "      <td>48.000000</td>\n",
       "      <td>48.000000</td>\n",
       "    </tr>\n",
       "    <tr>\n",
       "      <td>mean</td>\n",
       "      <td>7.280315</td>\n",
       "      <td>32.433236</td>\n",
       "      <td>1.058072</td>\n",
       "      <td>16.340896</td>\n",
       "      <td>20.426621</td>\n",
       "      <td>5.820239</td>\n",
       "      <td>5.419214</td>\n",
       "      <td>8.965681</td>\n",
       "      <td>5.879176</td>\n",
       "      <td>3.678096</td>\n",
       "    </tr>\n",
       "    <tr>\n",
       "      <td>std</td>\n",
       "      <td>4.209306</td>\n",
       "      <td>4.136932</td>\n",
       "      <td>0.514039</td>\n",
       "      <td>6.814683</td>\n",
       "      <td>14.748442</td>\n",
       "      <td>3.627444</td>\n",
       "      <td>2.622254</td>\n",
       "      <td>12.629912</td>\n",
       "      <td>4.227720</td>\n",
       "      <td>0.968616</td>\n",
       "    </tr>\n",
       "    <tr>\n",
       "      <td>min</td>\n",
       "      <td>-5.471219</td>\n",
       "      <td>21.404761</td>\n",
       "      <td>0.211998</td>\n",
       "      <td>7.900000</td>\n",
       "      <td>2.980690</td>\n",
       "      <td>-9.288825</td>\n",
       "      <td>0.560957</td>\n",
       "      <td>-29.403255</td>\n",
       "      <td>-11.894309</td>\n",
       "      <td>2.048000</td>\n",
       "    </tr>\n",
       "    <tr>\n",
       "      <td>25%</td>\n",
       "      <td>4.374899</td>\n",
       "      <td>29.776910</td>\n",
       "      <td>0.615602</td>\n",
       "      <td>9.950000</td>\n",
       "      <td>10.586461</td>\n",
       "      <td>3.591334</td>\n",
       "      <td>3.384407</td>\n",
       "      <td>2.114078</td>\n",
       "      <td>3.825773</td>\n",
       "      <td>3.150475</td>\n",
       "    </tr>\n",
       "    <tr>\n",
       "      <td>50%</td>\n",
       "      <td>7.513471</td>\n",
       "      <td>32.335229</td>\n",
       "      <td>0.985132</td>\n",
       "      <td>15.150000</td>\n",
       "      <td>17.807598</td>\n",
       "      <td>6.531163</td>\n",
       "      <td>5.056509</td>\n",
       "      <td>7.431966</td>\n",
       "      <td>6.999971</td>\n",
       "      <td>3.700000</td>\n",
       "    </tr>\n",
       "    <tr>\n",
       "      <td>75%</td>\n",
       "      <td>10.376191</td>\n",
       "      <td>34.474874</td>\n",
       "      <td>1.525765</td>\n",
       "      <td>21.750000</td>\n",
       "      <td>26.923837</td>\n",
       "      <td>8.179037</td>\n",
       "      <td>7.188470</td>\n",
       "      <td>16.210283</td>\n",
       "      <td>8.938837</td>\n",
       "      <td>4.088500</td>\n",
       "    </tr>\n",
       "    <tr>\n",
       "      <td>max</td>\n",
       "      <td>14.827554</td>\n",
       "      <td>41.374062</td>\n",
       "      <td>2.263434</td>\n",
       "      <td>31.200000</td>\n",
       "      <td>85.203081</td>\n",
       "      <td>10.834413</td>\n",
       "      <td>11.742807</td>\n",
       "      <td>32.098276</td>\n",
       "      <td>11.711835</td>\n",
       "      <td>6.963000</td>\n",
       "    </tr>\n",
       "    <tr>\n",
       "      <td>+3_std</td>\n",
       "      <td>19.908232</td>\n",
       "      <td>44.844034</td>\n",
       "      <td>2.600188</td>\n",
       "      <td>36.784945</td>\n",
       "      <td>64.671947</td>\n",
       "      <td>16.702571</td>\n",
       "      <td>13.285976</td>\n",
       "      <td>46.855416</td>\n",
       "      <td>18.562336</td>\n",
       "      <td>6.583944</td>\n",
       "    </tr>\n",
       "    <tr>\n",
       "      <td>-3_std</td>\n",
       "      <td>-5.347602</td>\n",
       "      <td>20.022439</td>\n",
       "      <td>-0.484044</td>\n",
       "      <td>-4.103153</td>\n",
       "      <td>-23.818705</td>\n",
       "      <td>-5.062092</td>\n",
       "      <td>-2.447547</td>\n",
       "      <td>-28.924054</td>\n",
       "      <td>-6.803985</td>\n",
       "      <td>0.772247</td>\n",
       "    </tr>\n",
       "  </tbody>\n",
       "</table>\n",
       "</div>"
      ],
      "text/plain": [
       "        gdp_growth  gross_capital_formation  pop_growth  birth_rate  \\\n",
       "count    48.000000                48.000000   48.000000   48.000000   \n",
       "mean      7.280315                32.433236    1.058072   16.340896   \n",
       "std       4.209306                 4.136932    0.514039    6.814683   \n",
       "min      -5.471219                21.404761    0.211998    7.900000   \n",
       "25%       4.374899                29.776910    0.615602    9.950000   \n",
       "50%       7.513471                32.335229    0.985132   15.150000   \n",
       "75%      10.376191                34.474874    1.525765   21.750000   \n",
       "max      14.827554                41.374062    2.263434   31.200000   \n",
       "+3_std   19.908232                44.844034    2.600188   36.784945   \n",
       "-3_std   -5.347602                20.022439   -0.484044   -4.103153   \n",
       "\n",
       "        broad_money_growth  final_consum_growth  gov_final_consum_growth  \\\n",
       "count            48.000000            48.000000                48.000000   \n",
       "mean             20.426621             5.820239                 5.419214   \n",
       "std              14.748442             3.627444                 2.622254   \n",
       "min               2.980690            -9.288825                 0.560957   \n",
       "25%              10.586461             3.591334                 3.384407   \n",
       "50%              17.807598             6.531163                 5.056509   \n",
       "75%              26.923837             8.179037                 7.188470   \n",
       "max              85.203081            10.834413                11.742807   \n",
       "+3_std           64.671947            16.702571                13.285976   \n",
       "-3_std          -23.818705            -5.062092                -2.447547   \n",
       "\n",
       "        gross_cap_form_growth  hh_consum_growth  unemployment  \n",
       "count               48.000000         48.000000     48.000000  \n",
       "mean                 8.965681          5.879176      3.678096  \n",
       "std                 12.629912          4.227720      0.968616  \n",
       "min                -29.403255        -11.894309      2.048000  \n",
       "25%                  2.114078          3.825773      3.150475  \n",
       "50%                  7.431966          6.999971      3.700000  \n",
       "75%                 16.210283          8.938837      4.088500  \n",
       "max                 32.098276         11.711835      6.963000  \n",
       "+3_std              46.855416         18.562336      6.583944  \n",
       "-3_std             -28.924054         -6.803985      0.772247  "
      ]
     },
     "execution_count": 13,
     "metadata": {},
     "output_type": "execute_result"
    }
   ],
   "source": [
    "# get the summary\n",
    "desc_df = data.describe()\n",
    "# add the standard deviation metric\n",
    "desc_df.loc['+3_std'] = desc_df.loc['mean'] + (desc_df.loc['std'] * 3)\n",
    "desc_df.loc['-3_std'] = desc_df.loc['mean'] - (desc_df.loc['std'] * 3)\n",
    "# display it\n",
    "desc_df"
   ]
  },
  {
   "cell_type": "code",
   "execution_count": 14,
   "metadata": {},
   "outputs": [
    {
     "data": {
      "text/plain": [
       "Int64Index([1998, 2001], dtype='int64', name='Year')"
      ]
     },
     "execution_count": 14,
     "metadata": {},
     "output_type": "execute_result"
    }
   ],
   "source": [
    "# filter the data frame to remove the values exceeding 3 standard deviations\n",
    "data_outlier = data[(np.abs(stats.zscore(data)) < 3).all(axis=1)]\n",
    "# what rows were removed\n",
    "data.index.difference(data_outlier.index)"
   ]
  },
  {
   "cell_type": "markdown",
   "metadata": {},
   "source": [
    "# Data Partition"
   ]
  },
  {
   "cell_type": "code",
   "execution_count": 15,
   "metadata": {},
   "outputs": [],
   "source": [
    "X = data.drop('gdp_growth', axis = 1)\n",
    "Y = data[['gdp_growth']]\n",
    "# Split X and y into X_\n",
    "X_train, X_test, y_train, y_test = train_test_split(X, Y, test_size=0.20, random_state=1)"
   ]
  },
  {
   "cell_type": "markdown",
   "metadata": {},
   "source": [
    "# Model Building"
   ]
  },
  {
   "cell_type": "markdown",
   "metadata": {},
   "source": [
    "# Correlation Matrix"
   ]
  },
  {
   "cell_type": "code",
   "execution_count": 16,
   "metadata": {},
   "outputs": [],
   "source": [
    "data1=pd.concat([y_train,X_train],axis=1)"
   ]
  },
  {
   "cell_type": "code",
   "execution_count": 17,
   "metadata": {},
   "outputs": [
    {
     "data": {
      "text/html": [
       "<div>\n",
       "<style scoped>\n",
       "    .dataframe tbody tr th:only-of-type {\n",
       "        vertical-align: middle;\n",
       "    }\n",
       "\n",
       "    .dataframe tbody tr th {\n",
       "        vertical-align: top;\n",
       "    }\n",
       "\n",
       "    .dataframe thead th {\n",
       "        text-align: right;\n",
       "    }\n",
       "</style>\n",
       "<table border=\"1\" class=\"dataframe\">\n",
       "  <thead>\n",
       "    <tr style=\"text-align: right;\">\n",
       "      <th></th>\n",
       "      <th>gdp_growth</th>\n",
       "      <th>gross_capital_formation</th>\n",
       "      <th>pop_growth</th>\n",
       "      <th>birth_rate</th>\n",
       "      <th>broad_money_growth</th>\n",
       "      <th>final_consum_growth</th>\n",
       "      <th>gov_final_consum_growth</th>\n",
       "      <th>gross_cap_form_growth</th>\n",
       "      <th>hh_consum_growth</th>\n",
       "      <th>unemployment</th>\n",
       "    </tr>\n",
       "  </thead>\n",
       "  <tbody>\n",
       "    <tr>\n",
       "      <td>gdp_growth</td>\n",
       "      <td>1.000000</td>\n",
       "      <td>0.104711</td>\n",
       "      <td>0.577133</td>\n",
       "      <td>0.569042</td>\n",
       "      <td>0.312360</td>\n",
       "      <td>0.862195</td>\n",
       "      <td>0.092569</td>\n",
       "      <td>0.852379</td>\n",
       "      <td>0.878515</td>\n",
       "      <td>-0.216038</td>\n",
       "    </tr>\n",
       "    <tr>\n",
       "      <td>gross_capital_formation</td>\n",
       "      <td>0.104711</td>\n",
       "      <td>1.000000</td>\n",
       "      <td>-0.116695</td>\n",
       "      <td>-0.121824</td>\n",
       "      <td>-0.135948</td>\n",
       "      <td>0.307906</td>\n",
       "      <td>0.277231</td>\n",
       "      <td>0.141669</td>\n",
       "      <td>0.297928</td>\n",
       "      <td>-0.569541</td>\n",
       "    </tr>\n",
       "    <tr>\n",
       "      <td>pop_growth</td>\n",
       "      <td>0.577133</td>\n",
       "      <td>-0.116695</td>\n",
       "      <td>1.000000</td>\n",
       "      <td>0.979736</td>\n",
       "      <td>0.524675</td>\n",
       "      <td>0.508159</td>\n",
       "      <td>0.300214</td>\n",
       "      <td>0.383733</td>\n",
       "      <td>0.490806</td>\n",
       "      <td>0.224321</td>\n",
       "    </tr>\n",
       "    <tr>\n",
       "      <td>birth_rate</td>\n",
       "      <td>0.569042</td>\n",
       "      <td>-0.121824</td>\n",
       "      <td>0.979736</td>\n",
       "      <td>1.000000</td>\n",
       "      <td>0.520379</td>\n",
       "      <td>0.487728</td>\n",
       "      <td>0.302905</td>\n",
       "      <td>0.386733</td>\n",
       "      <td>0.469414</td>\n",
       "      <td>0.265149</td>\n",
       "    </tr>\n",
       "    <tr>\n",
       "      <td>broad_money_growth</td>\n",
       "      <td>0.312360</td>\n",
       "      <td>-0.135948</td>\n",
       "      <td>0.524675</td>\n",
       "      <td>0.520379</td>\n",
       "      <td>1.000000</td>\n",
       "      <td>0.302724</td>\n",
       "      <td>0.297538</td>\n",
       "      <td>0.249022</td>\n",
       "      <td>0.280291</td>\n",
       "      <td>0.297615</td>\n",
       "    </tr>\n",
       "    <tr>\n",
       "      <td>final_consum_growth</td>\n",
       "      <td>0.862195</td>\n",
       "      <td>0.307906</td>\n",
       "      <td>0.508159</td>\n",
       "      <td>0.487728</td>\n",
       "      <td>0.302724</td>\n",
       "      <td>1.000000</td>\n",
       "      <td>0.345633</td>\n",
       "      <td>0.744546</td>\n",
       "      <td>0.994399</td>\n",
       "      <td>-0.322985</td>\n",
       "    </tr>\n",
       "    <tr>\n",
       "      <td>gov_final_consum_growth</td>\n",
       "      <td>0.092569</td>\n",
       "      <td>0.277231</td>\n",
       "      <td>0.300214</td>\n",
       "      <td>0.302905</td>\n",
       "      <td>0.297538</td>\n",
       "      <td>0.345633</td>\n",
       "      <td>1.000000</td>\n",
       "      <td>0.078466</td>\n",
       "      <td>0.247448</td>\n",
       "      <td>-0.010499</td>\n",
       "    </tr>\n",
       "    <tr>\n",
       "      <td>gross_cap_form_growth</td>\n",
       "      <td>0.852379</td>\n",
       "      <td>0.141669</td>\n",
       "      <td>0.383733</td>\n",
       "      <td>0.386733</td>\n",
       "      <td>0.249022</td>\n",
       "      <td>0.744546</td>\n",
       "      <td>0.078466</td>\n",
       "      <td>1.000000</td>\n",
       "      <td>0.758793</td>\n",
       "      <td>-0.262096</td>\n",
       "    </tr>\n",
       "    <tr>\n",
       "      <td>hh_consum_growth</td>\n",
       "      <td>0.878515</td>\n",
       "      <td>0.297928</td>\n",
       "      <td>0.490806</td>\n",
       "      <td>0.469414</td>\n",
       "      <td>0.280291</td>\n",
       "      <td>0.994399</td>\n",
       "      <td>0.247448</td>\n",
       "      <td>0.758793</td>\n",
       "      <td>1.000000</td>\n",
       "      <td>-0.327459</td>\n",
       "    </tr>\n",
       "    <tr>\n",
       "      <td>unemployment</td>\n",
       "      <td>-0.216038</td>\n",
       "      <td>-0.569541</td>\n",
       "      <td>0.224321</td>\n",
       "      <td>0.265149</td>\n",
       "      <td>0.297615</td>\n",
       "      <td>-0.322985</td>\n",
       "      <td>-0.010499</td>\n",
       "      <td>-0.262096</td>\n",
       "      <td>-0.327459</td>\n",
       "      <td>1.000000</td>\n",
       "    </tr>\n",
       "  </tbody>\n",
       "</table>\n",
       "</div>"
      ],
      "text/plain": [
       "                         gdp_growth  gross_capital_formation  pop_growth  \\\n",
       "gdp_growth                 1.000000                 0.104711    0.577133   \n",
       "gross_capital_formation    0.104711                 1.000000   -0.116695   \n",
       "pop_growth                 0.577133                -0.116695    1.000000   \n",
       "birth_rate                 0.569042                -0.121824    0.979736   \n",
       "broad_money_growth         0.312360                -0.135948    0.524675   \n",
       "final_consum_growth        0.862195                 0.307906    0.508159   \n",
       "gov_final_consum_growth    0.092569                 0.277231    0.300214   \n",
       "gross_cap_form_growth      0.852379                 0.141669    0.383733   \n",
       "hh_consum_growth           0.878515                 0.297928    0.490806   \n",
       "unemployment              -0.216038                -0.569541    0.224321   \n",
       "\n",
       "                         birth_rate  broad_money_growth  final_consum_growth  \\\n",
       "gdp_growth                 0.569042            0.312360             0.862195   \n",
       "gross_capital_formation   -0.121824           -0.135948             0.307906   \n",
       "pop_growth                 0.979736            0.524675             0.508159   \n",
       "birth_rate                 1.000000            0.520379             0.487728   \n",
       "broad_money_growth         0.520379            1.000000             0.302724   \n",
       "final_consum_growth        0.487728            0.302724             1.000000   \n",
       "gov_final_consum_growth    0.302905            0.297538             0.345633   \n",
       "gross_cap_form_growth      0.386733            0.249022             0.744546   \n",
       "hh_consum_growth           0.469414            0.280291             0.994399   \n",
       "unemployment               0.265149            0.297615            -0.322985   \n",
       "\n",
       "                         gov_final_consum_growth  gross_cap_form_growth  \\\n",
       "gdp_growth                              0.092569               0.852379   \n",
       "gross_capital_formation                 0.277231               0.141669   \n",
       "pop_growth                              0.300214               0.383733   \n",
       "birth_rate                              0.302905               0.386733   \n",
       "broad_money_growth                      0.297538               0.249022   \n",
       "final_consum_growth                     0.345633               0.744546   \n",
       "gov_final_consum_growth                 1.000000               0.078466   \n",
       "gross_cap_form_growth                   0.078466               1.000000   \n",
       "hh_consum_growth                        0.247448               0.758793   \n",
       "unemployment                           -0.010499              -0.262096   \n",
       "\n",
       "                         hh_consum_growth  unemployment  \n",
       "gdp_growth                       0.878515     -0.216038  \n",
       "gross_capital_formation          0.297928     -0.569541  \n",
       "pop_growth                       0.490806      0.224321  \n",
       "birth_rate                       0.469414      0.265149  \n",
       "broad_money_growth               0.280291      0.297615  \n",
       "final_consum_growth              0.994399     -0.322985  \n",
       "gov_final_consum_growth          0.247448     -0.010499  \n",
       "gross_cap_form_growth            0.758793     -0.262096  \n",
       "hh_consum_growth                 1.000000     -0.327459  \n",
       "unemployment                    -0.327459      1.000000  "
      ]
     },
     "metadata": {},
     "output_type": "display_data"
    },
    {
     "data": {
      "text/plain": [
       "<matplotlib.axes._subplots.AxesSubplot at 0x1d0e8ab7c48>"
      ]
     },
     "execution_count": 17,
     "metadata": {},
     "output_type": "execute_result"
    },
    {
     "data": {
      "image/png": "[encoded data removed]",
      "text/plain": [
       "<Figure size 432x288 with 2 Axes>"
      ]
     },
     "metadata": {
      "needs_background": "light"
     },
     "output_type": "display_data"
    }
   ],
   "source": [
    "# calculate the correlation matrix\n",
    "corr = data1.corr()\n",
    "# display the correlation matrix\n",
    "display(corr)\n",
    "# plot the correlation heatmap\n",
    "sns.heatmap(corr,annot = True) # annot=True will give you value"
   ]
  },
  {
   "cell_type": "markdown",
   "metadata": {},
   "source": [
    "# Model Building"
   ]
  },
  {
   "cell_type": "code",
   "execution_count": 18,
   "metadata": {},
   "outputs": [
    {
     "name": "stdout",
     "output_type": "stream",
     "text": [
      "                            OLS Regression Results                            \n",
      "==============================================================================\n",
      "Dep. Variable:             gdp_growth   R-squared:                       0.898\n",
      "Model:                            OLS   Adj. R-squared:                  0.865\n",
      "Method:                 Least Squares   F-statistic:                     27.27\n",
      "Date:                Thu, 16 Jul 2020   Prob (F-statistic):           1.45e-11\n",
      "Time:                        17:46:08   Log-Likelihood:                -68.019\n",
      "No. Observations:                  38   AIC:                             156.0\n",
      "Df Residuals:                      28   BIC:                             172.4\n",
      "Df Model:                           9                                         \n",
      "Covariance Type:            nonrobust                                         \n",
      "===========================================================================================\n",
      "                              coef    std err          t      P>|t|      [0.025      0.975]\n",
      "-------------------------------------------------------------------------------------------\n",
      "const                       5.2591      5.899      0.891      0.380      -6.825      17.344\n",
      "gross_capital_formation    -0.0885      0.137     -0.647      0.523      -0.369       0.192\n",
      "pop_growth                  0.1805      2.961      0.061      0.952      -5.885       6.246\n",
      "birth_rate                  0.1346      0.225      0.597      0.555      -0.327       0.596\n",
      "broad_money_growth         -0.0018      0.022     -0.082      0.936      -0.047       0.043\n",
      "final_consum_growth         0.2156      4.059      0.053      0.958      -8.099       8.530\n",
      "gov_final_consum_growth    -0.2222      0.663     -0.335      0.740      -1.580       1.136\n",
      "gross_cap_form_growth       0.1296      0.033      3.891      0.001       0.061       0.198\n",
      "hh_consum_growth            0.3545      3.378      0.105      0.917      -6.565       7.274\n",
      "unemployment               -0.1800      0.521     -0.346      0.732      -1.247       0.887\n",
      "==============================================================================\n",
      "Omnibus:                        1.099   Durbin-Watson:                   2.163\n",
      "Prob(Omnibus):                  0.577   Jarque-Bera (JB):                1.088\n",
      "Skew:                           0.286   Prob(JB):                        0.581\n",
      "Kurtosis:                       2.401   Cond. No.                     1.25e+03\n",
      "==============================================================================\n",
      "\n",
      "Warnings:\n",
      "[1] Standard Errors assume that the covariance matrix of the errors is correctly specified.\n",
      "[2] The condition number is large, 1.25e+03. This might indicate that there are\n",
      "strong multicollinearity or other numerical problems.\n"
     ]
    },
    {
     "name": "stderr",
     "output_type": "stream",
     "text": [
      "C:\\Users\\ganes\\Anaconda3\\lib\\site-packages\\numpy\\core\\fromnumeric.py:2389: FutureWarning: Method .ptp is deprecated and will be removed in a future version. Use numpy.ptp instead.\n",
      "  return ptp(axis=axis, out=out, **kwargs)\n"
     ]
    }
   ],
   "source": [
    "# define our intput\n",
    "X_1 = sm.add_constant(X_train)\n",
    "# create a OLS model\n",
    "model = sm.OLS(y_train, X_1).fit()\n",
    "print(model.summary())"
   ]
  },
  {
   "cell_type": "markdown",
   "metadata": {},
   "source": [
    "# Multicolinearity (with the help of VIF)"
   ]
  },
  {
   "cell_type": "code",
   "execution_count": 19,
   "metadata": {},
   "outputs": [
    {
     "data": {
      "text/plain": [
       "gross_capital_formation      19.212176\n",
       "pop_growth                  162.241884\n",
       "birth_rate                  207.024778\n",
       "broad_money_growth            4.512362\n",
       "final_consum_growth        4851.838385\n",
       "gov_final_consum_growth      98.964975\n",
       "gross_cap_form_growth         4.026634\n",
       "hh_consum_growth           3726.109127\n",
       "unemployment                 19.176525\n",
       "dtype: float64"
      ]
     },
     "execution_count": 19,
     "metadata": {},
     "output_type": "execute_result"
    }
   ],
   "source": [
    "X1=data1.drop(['gdp_growth'],axis=1)\n",
    "# the VFI does expect a constant term in the data, \n",
    "#so we need to add one using the add_constant method\n",
    "#X1 = sm.add_constant(econ_df_before)\n",
    "series_before = pd.Series([variance_inflation_factor(X1.values, i) \n",
    "                           for i in range(X1.shape[1])], index=X1.columns)\n",
    "series_before"
   ]
  },
  {
   "cell_type": "markdown",
   "metadata": {},
   "source": [
    "#  Removing the inSignificant variable  \n",
    "\n",
    "* Variable will be remove based on P-value (>0.05) one by one"
   ]
  },
  {
   "cell_type": "code",
   "execution_count": 20,
   "metadata": {},
   "outputs": [],
   "source": [
    "X_train=X_train.drop(['final_consum_growth'],axis=1)"
   ]
  },
  {
   "cell_type": "code",
   "execution_count": 21,
   "metadata": {},
   "outputs": [
    {
     "name": "stdout",
     "output_type": "stream",
     "text": [
      "                            OLS Regression Results                            \n",
      "==============================================================================\n",
      "Dep. Variable:             gdp_growth   R-squared:                       0.898\n",
      "Model:                            OLS   Adj. R-squared:                  0.869\n",
      "Method:                 Least Squares   F-statistic:                     31.77\n",
      "Date:                Thu, 16 Jul 2020   Prob (F-statistic):           2.47e-12\n",
      "Time:                        17:46:09   Log-Likelihood:                -68.021\n",
      "No. Observations:                  38   AIC:                             154.0\n",
      "Df Residuals:                      29   BIC:                             168.8\n",
      "Df Model:                           8                                         \n",
      "Covariance Type:            nonrobust                                         \n",
      "===========================================================================================\n",
      "                              coef    std err          t      P>|t|      [0.025      0.975]\n",
      "-------------------------------------------------------------------------------------------\n",
      "const                       5.4856      4.008      1.369      0.182      -2.711      13.682\n",
      "gross_capital_formation    -0.0934      0.100     -0.937      0.356      -0.297       0.110\n",
      "pop_growth                  0.1573      2.878      0.055      0.957      -5.730       6.044\n",
      "birth_rate                  0.1367      0.218      0.626      0.536      -0.310       0.583\n",
      "broad_money_growth         -0.0018      0.021     -0.082      0.935      -0.046       0.042\n",
      "gov_final_consum_growth    -0.1876      0.117     -1.607      0.119      -0.426       0.051\n",
      "gross_cap_form_growth       0.1296      0.033      3.959      0.000       0.063       0.197\n",
      "hh_consum_growth            0.5339      0.110      4.859      0.000       0.309       0.759\n",
      "unemployment               -0.1965      0.411     -0.478      0.636      -1.037       0.644\n",
      "==============================================================================\n",
      "Omnibus:                        1.099   Durbin-Watson:                   2.155\n",
      "Prob(Omnibus):                  0.577   Jarque-Bera (JB):                1.084\n",
      "Skew:                           0.282   Prob(JB):                        0.582\n",
      "Kurtosis:                       2.395   Cond. No.                         687.\n",
      "==============================================================================\n",
      "\n",
      "Warnings:\n",
      "[1] Standard Errors assume that the covariance matrix of the errors is correctly specified.\n"
     ]
    }
   ],
   "source": [
    "# define our intput\n",
    "X2 = sm.add_constant(X_train)\n",
    "# create a OLS model\n",
    "model2 = sm.OLS(y_train, X2).fit()\n",
    "print(model2.summary())"
   ]
  },
  {
   "cell_type": "code",
   "execution_count": 22,
   "metadata": {},
   "outputs": [
    {
     "data": {
      "text/plain": [
       "gross_capital_formation     18.875927\n",
       "pop_growth                 161.972132\n",
       "birth_rate                 205.702518\n",
       "broad_money_growth           4.509515\n",
       "gov_final_consum_growth      6.649093\n",
       "gross_cap_form_growth        4.000155\n",
       "hh_consum_growth             8.528824\n",
       "unemployment                19.152951\n",
       "dtype: float64"
      ]
     },
     "execution_count": 22,
     "metadata": {},
     "output_type": "execute_result"
    }
   ],
   "source": [
    "X1=data1.drop(['gdp_growth','final_consum_growth'],axis=1)\n",
    "# the VFI does expect a constant term in the data, \n",
    "#so we need to add one using the add_constant method\n",
    "#X1 = sm.add_constant(econ_df_before)\n",
    "series_before = pd.Series([variance_inflation_factor(X1.values, i) \n",
    "                           for i in range(X1.shape[1])], index=X1.columns)\n",
    "series_before"
   ]
  },
  {
   "cell_type": "code",
   "execution_count": 23,
   "metadata": {},
   "outputs": [],
   "source": [
    "# Removing birth_rate with the help of P-value\n",
    "X_train=X_train.drop(['birth_rate'],axis=1)"
   ]
  },
  {
   "cell_type": "code",
   "execution_count": 24,
   "metadata": {},
   "outputs": [
    {
     "name": "stdout",
     "output_type": "stream",
     "text": [
      "                            OLS Regression Results                            \n",
      "==============================================================================\n",
      "Dep. Variable:             gdp_growth   R-squared:                       0.896\n",
      "Model:                            OLS   Adj. R-squared:                  0.872\n",
      "Method:                 Least Squares   F-statistic:                     37.00\n",
      "Date:                Thu, 16 Jul 2020   Prob (F-statistic):           4.68e-13\n",
      "Time:                        17:46:09   Log-Likelihood:                -68.276\n",
      "No. Observations:                  38   AIC:                             152.6\n",
      "Df Residuals:                      30   BIC:                             165.7\n",
      "Df Model:                           7                                         \n",
      "Covariance Type:            nonrobust                                         \n",
      "===========================================================================================\n",
      "                              coef    std err          t      P>|t|      [0.025      0.975]\n",
      "-------------------------------------------------------------------------------------------\n",
      "const                       5.3408      3.960      1.349      0.188      -2.747      13.429\n",
      "gross_capital_formation    -0.0864      0.098     -0.881      0.385      -0.287       0.114\n",
      "pop_growth                  1.8952      0.759      2.497      0.018       0.345       3.445\n",
      "broad_money_growth         -0.0025      0.021     -0.117      0.908      -0.046       0.041\n",
      "gov_final_consum_growth    -0.1829      0.115     -1.586      0.123      -0.418       0.053\n",
      "gross_cap_form_growth       0.1336      0.032      4.201      0.000       0.069       0.199\n",
      "hh_consum_growth            0.5277      0.108      4.872      0.000       0.307       0.749\n",
      "unemployment               -0.1265      0.391     -0.323      0.749      -0.926       0.673\n",
      "==============================================================================\n",
      "Omnibus:                        1.508   Durbin-Watson:                   2.120\n",
      "Prob(Omnibus):                  0.470   Jarque-Bera (JB):                1.248\n",
      "Skew:                           0.255   Prob(JB):                        0.536\n",
      "Kurtosis:                       2.273   Cond. No.                         634.\n",
      "==============================================================================\n",
      "\n",
      "Warnings:\n",
      "[1] Standard Errors assume that the covariance matrix of the errors is correctly specified.\n"
     ]
    }
   ],
   "source": [
    "# define our intput\n",
    "X3 = sm.add_constant(X_train)\n",
    "# create a OLS model\n",
    "model3 = sm.OLS(y_train,X3).fit()\n",
    "print(model3.summary())"
   ]
  },
  {
   "cell_type": "markdown",
   "metadata": {},
   "source": [
    "# Backward Elimination Method\n"
   ]
  },
  {
   "cell_type": "code",
   "execution_count": 25,
   "metadata": {},
   "outputs": [],
   "source": [
    "X = data.drop('gdp_growth', axis = 1)\n",
    "y = data['gdp_growth']"
   ]
  },
  {
   "cell_type": "markdown",
   "metadata": {},
   "source": [
    "# Its work on dataframe"
   ]
  },
  {
   "cell_type": "code",
   "execution_count": 26,
   "metadata": {},
   "outputs": [
    {
     "name": "stdout",
     "output_type": "stream",
     "text": [
      "['pop_growth', 'final_consum_growth', 'gov_final_consum_growth', 'gross_cap_form_growth']\n"
     ]
    }
   ],
   "source": [
    "#Backward Elimination\n",
    "cols = list(X.columns) # all column present  in x  \n",
    "pmax = 1\n",
    "while (len(cols)>0):  # count of variable should be greater than zero\n",
    "    p= []\n",
    "    X_1 = X[cols]  # all column we are assign in x_1\n",
    "    X_1 = sm.add_constant(X_1)# adding a column with value 1\n",
    "    final_model = sm.OLS(y,X_1).fit() # Regression model\n",
    "    p = pd.Series(final_model.pvalues.values[1:],index = cols) \n",
    "    # to get p-values for all variable only     \n",
    "    pmax = max(p)  # select a max P-value \n",
    "    feature_with_p_max = p.idxmax()   \n",
    "    # idmax is used to display the variable name which has max P-value\n",
    "    if(pmax>0.05):\n",
    "        cols.remove(feature_with_p_max)\n",
    "    else:\n",
    "        break\n",
    "selected_features_BE = cols\n",
    "print(selected_features_BE)"
   ]
  },
  {
   "cell_type": "code",
   "execution_count": 27,
   "metadata": {},
   "outputs": [
    {
     "data": {
      "text/html": [
       "<table class=\"simpletable\">\n",
       "<caption>OLS Regression Results</caption>\n",
       "<tr>\n",
       "  <th>Dep. Variable:</th>       <td>gdp_growth</td>    <th>  R-squared:         </th> <td>   0.894</td>\n",
       "</tr>\n",
       "<tr>\n",
       "  <th>Model:</th>                   <td>OLS</td>       <th>  Adj. R-squared:    </th> <td>   0.884</td>\n",
       "</tr>\n",
       "<tr>\n",
       "  <th>Method:</th>             <td>Least Squares</td>  <th>  F-statistic:       </th> <td>   90.71</td>\n",
       "</tr>\n",
       "<tr>\n",
       "  <th>Date:</th>             <td>Thu, 16 Jul 2020</td> <th>  Prob (F-statistic):</th> <td>2.22e-20</td>\n",
       "</tr>\n",
       "<tr>\n",
       "  <th>Time:</th>                 <td>17:46:10</td>     <th>  Log-Likelihood:    </th> <td> -82.719</td>\n",
       "</tr>\n",
       "<tr>\n",
       "  <th>No. Observations:</th>      <td>    48</td>      <th>  AIC:               </th> <td>   175.4</td>\n",
       "</tr>\n",
       "<tr>\n",
       "  <th>Df Residuals:</th>          <td>    43</td>      <th>  BIC:               </th> <td>   184.8</td>\n",
       "</tr>\n",
       "<tr>\n",
       "  <th>Df Model:</th>              <td>     4</td>      <th>                     </th>     <td> </td>   \n",
       "</tr>\n",
       "<tr>\n",
       "  <th>Covariance Type:</th>      <td>nonrobust</td>    <th>                     </th>     <td> </td>   \n",
       "</tr>\n",
       "</table>\n",
       "<table class=\"simpletable\">\n",
       "<tr>\n",
       "             <td></td>                <th>coef</th>     <th>std err</th>      <th>t</th>      <th>P>|t|</th>  <th>[0.025</th>    <th>0.975]</th>  \n",
       "</tr>\n",
       "<tr>\n",
       "  <th>const</th>                   <td>    1.8737</td> <td>    0.572</td> <td>    3.276</td> <td> 0.002</td> <td>    0.720</td> <td>    3.027</td>\n",
       "</tr>\n",
       "<tr>\n",
       "  <th>pop_growth</th>              <td>    2.1608</td> <td>    0.476</td> <td>    4.541</td> <td> 0.000</td> <td>    1.201</td> <td>    3.121</td>\n",
       "</tr>\n",
       "<tr>\n",
       "  <th>final_consum_growth</th>     <td>    0.6044</td> <td>    0.092</td> <td>    6.576</td> <td> 0.000</td> <td>    0.419</td> <td>    0.790</td>\n",
       "</tr>\n",
       "<tr>\n",
       "  <th>gov_final_consum_growth</th> <td>   -0.2844</td> <td>    0.091</td> <td>   -3.134</td> <td> 0.003</td> <td>   -0.467</td> <td>   -0.101</td>\n",
       "</tr>\n",
       "<tr>\n",
       "  <th>gross_cap_form_growth</th>   <td>    0.1276</td> <td>    0.024</td> <td>    5.267</td> <td> 0.000</td> <td>    0.079</td> <td>    0.176</td>\n",
       "</tr>\n",
       "</table>\n",
       "<table class=\"simpletable\">\n",
       "<tr>\n",
       "  <th>Omnibus:</th>       <td> 0.989</td> <th>  Durbin-Watson:     </th> <td>   1.593</td>\n",
       "</tr>\n",
       "<tr>\n",
       "  <th>Prob(Omnibus):</th> <td> 0.610</td> <th>  Jarque-Bera (JB):  </th> <td>   0.818</td>\n",
       "</tr>\n",
       "<tr>\n",
       "  <th>Skew:</th>          <td> 0.313</td> <th>  Prob(JB):          </th> <td>   0.664</td>\n",
       "</tr>\n",
       "<tr>\n",
       "  <th>Kurtosis:</th>      <td> 2.866</td> <th>  Cond. No.          </th> <td>    51.4</td>\n",
       "</tr>\n",
       "</table><br/><br/>Warnings:<br/>[1] Standard Errors assume that the covariance matrix of the errors is correctly specified."
      ],
      "text/plain": [
       "<class 'statsmodels.iolib.summary.Summary'>\n",
       "\"\"\"\n",
       "                            OLS Regression Results                            \n",
       "==============================================================================\n",
       "Dep. Variable:             gdp_growth   R-squared:                       0.894\n",
       "Model:                            OLS   Adj. R-squared:                  0.884\n",
       "Method:                 Least Squares   F-statistic:                     90.71\n",
       "Date:                Thu, 16 Jul 2020   Prob (F-statistic):           2.22e-20\n",
       "Time:                        17:46:10   Log-Likelihood:                -82.719\n",
       "No. Observations:                  48   AIC:                             175.4\n",
       "Df Residuals:                      43   BIC:                             184.8\n",
       "Df Model:                           4                                         \n",
       "Covariance Type:            nonrobust                                         \n",
       "===========================================================================================\n",
       "                              coef    std err          t      P>|t|      [0.025      0.975]\n",
       "-------------------------------------------------------------------------------------------\n",
       "const                       1.8737      0.572      3.276      0.002       0.720       3.027\n",
       "pop_growth                  2.1608      0.476      4.541      0.000       1.201       3.121\n",
       "final_consum_growth         0.6044      0.092      6.576      0.000       0.419       0.790\n",
       "gov_final_consum_growth    -0.2844      0.091     -3.134      0.003      -0.467      -0.101\n",
       "gross_cap_form_growth       0.1276      0.024      5.267      0.000       0.079       0.176\n",
       "==============================================================================\n",
       "Omnibus:                        0.989   Durbin-Watson:                   1.593\n",
       "Prob(Omnibus):                  0.610   Jarque-Bera (JB):                0.818\n",
       "Skew:                           0.313   Prob(JB):                        0.664\n",
       "Kurtosis:                       2.866   Cond. No.                         51.4\n",
       "==============================================================================\n",
       "\n",
       "Warnings:\n",
       "[1] Standard Errors assume that the covariance matrix of the errors is correctly specified.\n",
       "\"\"\""
      ]
     },
     "execution_count": 27,
     "metadata": {},
     "output_type": "execute_result"
    }
   ],
   "source": [
    "final_model.summary()"
   ]
  },
  {
   "cell_type": "markdown",
   "metadata": {},
   "source": [
    "# Assumption of Model\n",
    "\n",
    "* Linearity\n",
    "* Normality\n",
    "* Homoscedasicity\n",
    "* Model Error has to be independently identificaly Distibuted"
   ]
  },
  {
   "cell_type": "markdown",
   "metadata": {},
   "source": [
    "# Homoscedasicity"
   ]
  },
  {
   "cell_type": "code",
   "execution_count": 28,
   "metadata": {},
   "outputs": [],
   "source": [
    "Data=pd.concat([X_train,y_train],axis=1)"
   ]
  },
  {
   "cell_type": "code",
   "execution_count": 29,
   "metadata": {},
   "outputs": [],
   "source": [
    "Data['Fitted_value']=final_model.fittedvalues\n",
    "Data['Residual']=final_model.resid"
   ]
  },
  {
   "cell_type": "code",
   "execution_count": 30,
   "metadata": {},
   "outputs": [
    {
     "data": {
      "image/png": "[encoded data removed]",
      "text/plain": [
       "<Figure size 432x288 with 1 Axes>"
      ]
     },
     "metadata": {
      "needs_background": "light"
     },
     "output_type": "display_data"
    }
   ],
   "source": [
    "p = Data.plot.scatter(x='Fitted_value',y='Residual')\n",
    "plt.xlabel('Fitted values')\n",
    "plt.ylabel('Residuals')\n",
    "p = plt.title('Residuals vs fitted values plot for homoscedasticity check')\n",
    "plt.show()"
   ]
  },
  {
   "cell_type": "code",
   "execution_count": 31,
   "metadata": {},
   "outputs": [
    {
     "name": "stdout",
     "output_type": "stream",
     "text": [
      "0.13162274956251446 0.1348496500803121\n"
     ]
    }
   ],
   "source": [
    "# Run the Breusch-Pagan test\n",
    "_, pval2, __, f_pval2 = diag.het_breuschpagan(final_model.resid,\n",
    "                                              final_model.model.exog)\n",
    "print(pval2, f_pval2)"
   ]
  },
  {
   "cell_type": "markdown",
   "metadata": {},
   "source": [
    "# Normality"
   ]
  },
  {
   "cell_type": "code",
   "execution_count": 32,
   "metadata": {},
   "outputs": [
    {
     "data": {
      "image/png": "[encoded data removed]",
      "text/plain": [
       "<Figure size 432x288 with 1 Axes>"
      ]
     },
     "metadata": {
      "needs_background": "light"
     },
     "output_type": "display_data"
    }
   ],
   "source": [
    "import pylab\n",
    "# check for the normality of the residuals\n",
    "sm.qqplot(final_model.resid, line='s')\n",
    "pylab.show()"
   ]
  },
  {
   "cell_type": "markdown",
   "metadata": {},
   "source": [
    "# Model Error are IID "
   ]
  },
  {
   "cell_type": "code",
   "execution_count": 33,
   "metadata": {},
   "outputs": [
    {
     "data": {
      "text/plain": [
       "<matplotlib.axes._subplots.AxesSubplot at 0x1d0e98be8c8>"
      ]
     },
     "execution_count": 33,
     "metadata": {},
     "output_type": "execute_result"
    },
    {
     "data": {
      "image/png": "[encoded data removed]",
      "text/plain": [
       "<Figure size 432x288 with 1 Axes>"
      ]
     },
     "metadata": {
      "needs_background": "light"
     },
     "output_type": "display_data"
    }
   ],
   "source": [
    "Data['Residual'].plot.hist()"
   ]
  },
  {
   "cell_type": "markdown",
   "metadata": {},
   "source": [
    "# Prediction on Test Data (unseen data)"
   ]
  },
  {
   "cell_type": "code",
   "execution_count": 34,
   "metadata": {},
   "outputs": [],
   "source": [
    "X_test2 = X_test[['pop_growth', 'final_consum_growth', \n",
    "                  'gov_final_consum_growth', 'gross_cap_form_growth']]"
   ]
  },
  {
   "cell_type": "code",
   "execution_count": 35,
   "metadata": {},
   "outputs": [],
   "source": [
    "X_test2 = sm.add_constant(X_test2)"
   ]
  },
  {
   "cell_type": "code",
   "execution_count": 36,
   "metadata": {},
   "outputs": [
    {
     "data": {
      "text/html": [
       "<div>\n",
       "<style scoped>\n",
       "    .dataframe tbody tr th:only-of-type {\n",
       "        vertical-align: middle;\n",
       "    }\n",
       "\n",
       "    .dataframe tbody tr th {\n",
       "        vertical-align: top;\n",
       "    }\n",
       "\n",
       "    .dataframe thead th {\n",
       "        text-align: right;\n",
       "    }\n",
       "</style>\n",
       "<table border=\"1\" class=\"dataframe\">\n",
       "  <thead>\n",
       "    <tr style=\"text-align: right;\">\n",
       "      <th></th>\n",
       "      <th>const</th>\n",
       "      <th>pop_growth</th>\n",
       "      <th>final_consum_growth</th>\n",
       "      <th>gov_final_consum_growth</th>\n",
       "      <th>gross_cap_form_growth</th>\n",
       "    </tr>\n",
       "    <tr>\n",
       "      <th>Year</th>\n",
       "      <th></th>\n",
       "      <th></th>\n",
       "      <th></th>\n",
       "      <th></th>\n",
       "      <th></th>\n",
       "    </tr>\n",
       "  </thead>\n",
       "  <tbody>\n",
       "    <tr>\n",
       "      <td>2002</td>\n",
       "      <td>1.0</td>\n",
       "      <td>0.577957</td>\n",
       "      <td>8.284738</td>\n",
       "      <td>5.607038</td>\n",
       "      <td>7.297822</td>\n",
       "    </tr>\n",
       "    <tr>\n",
       "      <td>1992</td>\n",
       "      <td>1.0</td>\n",
       "      <td>1.039161</td>\n",
       "      <td>6.777232</td>\n",
       "      <td>6.436623</td>\n",
       "      <td>0.106136</td>\n",
       "    </tr>\n",
       "    <tr>\n",
       "      <td>2007</td>\n",
       "      <td>1.0</td>\n",
       "      <td>0.505234</td>\n",
       "      <td>5.298003</td>\n",
       "      <td>6.061820</td>\n",
       "      <td>4.531682</td>\n",
       "    </tr>\n",
       "    <tr>\n",
       "      <td>2005</td>\n",
       "      <td>1.0</td>\n",
       "      <td>0.211998</td>\n",
       "      <td>4.441178</td>\n",
       "      <td>4.529687</td>\n",
       "      <td>2.417118</td>\n",
       "    </tr>\n",
       "    <tr>\n",
       "      <td>1971</td>\n",
       "      <td>1.0</td>\n",
       "      <td>1.971324</td>\n",
       "      <td>9.330434</td>\n",
       "      <td>8.610547</td>\n",
       "      <td>15.172870</td>\n",
       "    </tr>\n",
       "  </tbody>\n",
       "</table>\n",
       "</div>"
      ],
      "text/plain": [
       "      const  pop_growth  final_consum_growth  gov_final_consum_growth  \\\n",
       "Year                                                                    \n",
       "2002    1.0    0.577957             8.284738                 5.607038   \n",
       "1992    1.0    1.039161             6.777232                 6.436623   \n",
       "2007    1.0    0.505234             5.298003                 6.061820   \n",
       "2005    1.0    0.211998             4.441178                 4.529687   \n",
       "1971    1.0    1.971324             9.330434                 8.610547   \n",
       "\n",
       "      gross_cap_form_growth  \n",
       "Year                         \n",
       "2002               7.297822  \n",
       "1992               0.106136  \n",
       "2007               4.531682  \n",
       "2005               2.417118  \n",
       "1971              15.172870  "
      ]
     },
     "execution_count": 36,
     "metadata": {},
     "output_type": "execute_result"
    }
   ],
   "source": [
    "X_test2.head()"
   ]
  },
  {
   "cell_type": "code",
   "execution_count": 37,
   "metadata": {},
   "outputs": [],
   "source": [
    "y_predict=final_model.predict(X_test2)"
   ]
  },
  {
   "cell_type": "code",
   "execution_count": 38,
   "metadata": {},
   "outputs": [],
   "source": [
    "test=pd.concat([X_test,y_test],axis=1)"
   ]
  },
  {
   "cell_type": "code",
   "execution_count": 39,
   "metadata": {},
   "outputs": [],
   "source": [
    "test['Predicted']=y_predict"
   ]
  },
  {
   "cell_type": "code",
   "execution_count": 40,
   "metadata": {},
   "outputs": [
    {
     "data": {
      "text/html": [
       "<div>\n",
       "<style scoped>\n",
       "    .dataframe tbody tr th:only-of-type {\n",
       "        vertical-align: middle;\n",
       "    }\n",
       "\n",
       "    .dataframe tbody tr th {\n",
       "        vertical-align: top;\n",
       "    }\n",
       "\n",
       "    .dataframe thead th {\n",
       "        text-align: right;\n",
       "    }\n",
       "</style>\n",
       "<table border=\"1\" class=\"dataframe\">\n",
       "  <thead>\n",
       "    <tr style=\"text-align: right;\">\n",
       "      <th></th>\n",
       "      <th>gross_capital_formation</th>\n",
       "      <th>pop_growth</th>\n",
       "      <th>birth_rate</th>\n",
       "      <th>broad_money_growth</th>\n",
       "      <th>final_consum_growth</th>\n",
       "      <th>gov_final_consum_growth</th>\n",
       "      <th>gross_cap_form_growth</th>\n",
       "      <th>hh_consum_growth</th>\n",
       "      <th>unemployment</th>\n",
       "      <th>gdp_growth</th>\n",
       "      <th>Predicted</th>\n",
       "    </tr>\n",
       "    <tr>\n",
       "      <th>Year</th>\n",
       "      <th></th>\n",
       "      <th></th>\n",
       "      <th></th>\n",
       "      <th></th>\n",
       "      <th></th>\n",
       "      <th></th>\n",
       "      <th></th>\n",
       "      <th></th>\n",
       "      <th></th>\n",
       "      <th></th>\n",
       "      <th></th>\n",
       "    </tr>\n",
       "  </thead>\n",
       "  <tbody>\n",
       "    <tr>\n",
       "      <td>2002</td>\n",
       "      <td>30.939581</td>\n",
       "      <td>0.577957</td>\n",
       "      <td>10.2</td>\n",
       "      <td>13.999891</td>\n",
       "      <td>8.284738</td>\n",
       "      <td>5.607038</td>\n",
       "      <td>7.297822</td>\n",
       "      <td>8.880712</td>\n",
       "      <td>3.300</td>\n",
       "      <td>7.432434</td>\n",
       "      <td>7.466168</td>\n",
       "    </tr>\n",
       "    <tr>\n",
       "      <td>1992</td>\n",
       "      <td>38.485198</td>\n",
       "      <td>1.039161</td>\n",
       "      <td>16.7</td>\n",
       "      <td>14.941525</td>\n",
       "      <td>6.777232</td>\n",
       "      <td>6.436623</td>\n",
       "      <td>0.106136</td>\n",
       "      <td>6.853033</td>\n",
       "      <td>2.513</td>\n",
       "      <td>6.175506</td>\n",
       "      <td>6.398131</td>\n",
       "    </tr>\n",
       "    <tr>\n",
       "      <td>2007</td>\n",
       "      <td>32.579531</td>\n",
       "      <td>0.505234</td>\n",
       "      <td>10.0</td>\n",
       "      <td>10.819965</td>\n",
       "      <td>5.298003</td>\n",
       "      <td>6.061820</td>\n",
       "      <td>4.531682</td>\n",
       "      <td>5.098033</td>\n",
       "      <td>3.200</td>\n",
       "      <td>5.463396</td>\n",
       "      <td>5.021625</td>\n",
       "    </tr>\n",
       "    <tr>\n",
       "      <td>2005</td>\n",
       "      <td>32.163065</td>\n",
       "      <td>0.211998</td>\n",
       "      <td>8.9</td>\n",
       "      <td>6.989059</td>\n",
       "      <td>4.441178</td>\n",
       "      <td>4.529687</td>\n",
       "      <td>2.417118</td>\n",
       "      <td>4.419130</td>\n",
       "      <td>3.700</td>\n",
       "      <td>3.923677</td>\n",
       "      <td>4.036090</td>\n",
       "    </tr>\n",
       "    <tr>\n",
       "      <td>1971</td>\n",
       "      <td>25.558501</td>\n",
       "      <td>1.971324</td>\n",
       "      <td>31.2</td>\n",
       "      <td>20.844481</td>\n",
       "      <td>9.330434</td>\n",
       "      <td>8.610547</td>\n",
       "      <td>15.172870</td>\n",
       "      <td>9.426969</td>\n",
       "      <td>4.570</td>\n",
       "      <td>10.454693</td>\n",
       "      <td>11.259536</td>\n",
       "    </tr>\n",
       "  </tbody>\n",
       "</table>\n",
       "</div>"
      ],
      "text/plain": [
       "      gross_capital_formation  pop_growth  birth_rate  broad_money_growth  \\\n",
       "Year                                                                        \n",
       "2002                30.939581    0.577957        10.2           13.999891   \n",
       "1992                38.485198    1.039161        16.7           14.941525   \n",
       "2007                32.579531    0.505234        10.0           10.819965   \n",
       "2005                32.163065    0.211998         8.9            6.989059   \n",
       "1971                25.558501    1.971324        31.2           20.844481   \n",
       "\n",
       "      final_consum_growth  gov_final_consum_growth  gross_cap_form_growth  \\\n",
       "Year                                                                        \n",
       "2002             8.284738                 5.607038               7.297822   \n",
       "1992             6.777232                 6.436623               0.106136   \n",
       "2007             5.298003                 6.061820               4.531682   \n",
       "2005             4.441178                 4.529687               2.417118   \n",
       "1971             9.330434                 8.610547              15.172870   \n",
       "\n",
       "      hh_consum_growth  unemployment  gdp_growth  Predicted  \n",
       "Year                                                         \n",
       "2002          8.880712         3.300    7.432434   7.466168  \n",
       "1992          6.853033         2.513    6.175506   6.398131  \n",
       "2007          5.098033         3.200    5.463396   5.021625  \n",
       "2005          4.419130         3.700    3.923677   4.036090  \n",
       "1971          9.426969         4.570   10.454693  11.259536  "
      ]
     },
     "execution_count": 40,
     "metadata": {},
     "output_type": "execute_result"
    }
   ],
   "source": [
    "test.head()"
   ]
  },
  {
   "cell_type": "markdown",
   "metadata": {},
   "source": [
    "# Performance on Test Data set"
   ]
  },
  {
   "cell_type": "code",
   "execution_count": 41,
   "metadata": {},
   "outputs": [
    {
     "name": "stdout",
     "output_type": "stream",
     "text": [
      "MSE 0.505\n",
      "MAE 0.52\n",
      "RMSE 0.711\n"
     ]
    }
   ],
   "source": [
    "import math\n",
    "# calculate the mean squared error\n",
    "model_mse = mean_squared_error(test['gdp_growth'], test['Predicted'])\n",
    "# calculate the mean absolute error\n",
    "model_mae = mean_absolute_error(test['gdp_growth'], test['Predicted'])\n",
    "# calulcate the root mean squared error\n",
    "model_rmse = math.sqrt(model_mse)\n",
    "# display the output\n",
    "print(\"MSE {:.3}\".format(model_mse))\n",
    "print(\"MAE {:.3}\".format(model_mae))\n",
    "print(\"RMSE {:.3}\".format(model_rmse))"
   ]
  },
  {
   "cell_type": "markdown",
   "metadata": {},
   "source": [
    "# Performance on Training Data set"
   ]
  },
  {
   "cell_type": "code",
   "execution_count": 42,
   "metadata": {},
   "outputs": [
    {
     "name": "stdout",
     "output_type": "stream",
     "text": [
      "MSE 2.19\n",
      "MAE 1.21\n",
      "RMSE 1.48\n"
     ]
    }
   ],
   "source": [
    "import math\n",
    "# calculate the mean squared error\n",
    "model_mse = mean_squared_error(Data['gdp_growth'], Data['Fitted_value'])\n",
    "# calculate the mean absolute error\n",
    "model_mae = mean_absolute_error(Data['gdp_growth'], Data['Fitted_value'])\n",
    "# calulcate the root mean squared error\n",
    "model_rmse = math.sqrt(model_mse)\n",
    "# display the output\n",
    "print(\"MSE {:.3}\".format(model_mse))\n",
    "print(\"MAE {:.3}\".format(model_mae))\n",
    "print(\"RMSE {:.3}\".format(model_rmse))"
   ]
  },
  {
   "cell_type": "code",
   "execution_count": null,
   "metadata": {},
   "outputs": [],
   "source": []
  }
 ],
 "metadata": {
  "kernelspec": {
   "display_name": "Python 3",
   "language": "python",
   "name": "python3"
  },
  "language_info": {
   "codemirror_mode": {
    "name": "ipython",
    "version": 3
   },
   "file_extension": ".py",
   "mimetype": "text/x-python",
   "name": "python",
   "nbconvert_exporter": "python",
   "pygments_lexer": "ipython3",
   "version": "3.7.4"
  }
 },
 "nbformat": 4,
 "nbformat_minor": 2
}
